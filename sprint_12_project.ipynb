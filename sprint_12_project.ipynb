{
 "cells": [
  {
   "cell_type": "markdown",
   "metadata": {},
   "source": [
    "Rusty Bargain used car sales service is developing an app to attract new customers. In that app, you can quickly find out the market value of your car. You have access to historical data: technical specifications, trim versions, and prices. You need to build the model to determine the value. \n",
    "\n",
    "Rusty Bargain is interested in:\n",
    "\n",
    "- the quality of the prediction;\n",
    "- the speed of the prediction;\n",
    "- the time required for training"
   ]
  },
  {
   "cell_type": "markdown",
   "metadata": {},
   "source": [
    "# Introduction"
   ]
  },
  {
   "cell_type": "markdown",
   "metadata": {},
   "source": [
    "# Data Collection"
   ]
  },
  {
   "cell_type": "markdown",
   "metadata": {},
   "source": [
    "The data was given by TripleTen, and the data was accessed using the pandas library in Python."
   ]
  },
  {
   "cell_type": "markdown",
   "metadata": {},
   "source": [
    "## Importing Libraries"
   ]
  },
  {
   "cell_type": "markdown",
   "metadata": {},
   "source": [
    "Below are the libraries that will be used for this project."
   ]
  },
  {
   "cell_type": "code",
   "execution_count": 1,
   "metadata": {},
   "outputs": [],
   "source": [
    "import pandas as pd\n",
    "from matplotlib import pyplot as plt\n",
    "import seaborn as sns\n",
    "import numpy as np\n",
    "from IPython.display import display\n",
    "from sklearn.preprocessing import OneHotEncoder, LabelEncoder\n",
    "from scipy.stats import f_oneway\n",
    "from sklearn.model_selection import train_test_split\n",
    "from sklearn.impute import SimpleImputer\n",
    "import category_encoders as ce\n",
    "from pandas.api import types as ptypes\n",
    "from statsmodels.stats.multicomp import pairwise_tukeyhsd\n",
    "import scipy.stats as stats"
   ]
  },
  {
   "cell_type": "markdown",
   "metadata": {},
   "source": [
    "# Global Changes"
   ]
  },
  {
   "cell_type": "markdown",
   "metadata": {},
   "source": [
    "There are some formatting options that we need to adjust so that we can better see certain tables and other figure types."
   ]
  },
  {
   "cell_type": "code",
   "execution_count": 2,
   "metadata": {},
   "outputs": [],
   "source": [
    "pd.set_option(\"display.max_columns\", None)\n",
    "pd.set_option(\"display.width\", None)"
   ]
  },
  {
   "cell_type": "markdown",
   "metadata": {},
   "source": [
    "## Accessing CSV file"
   ]
  },
  {
   "cell_type": "markdown",
   "metadata": {},
   "source": [
    "We need to access the given CSV file so we do this below."
   ]
  },
  {
   "cell_type": "code",
   "execution_count": 3,
   "metadata": {},
   "outputs": [],
   "source": [
    "#This is the name of the file path\n",
    "#file_path = \"/datasets/car_data.csv\"\n",
    "file_path = \"/Users/tanner/Downloads/car_data.csv\"\n",
    "#file_path = \"/Users/tanne/Desktop/sprint12folder/car_data.csv\"\n",
    "\n",
    "#This is the csv file that contains all of the information that we will use for this project --> there will be no modifications to it\n",
    "raw_df = pd.read_csv(file_path)"
   ]
  },
  {
   "cell_type": "markdown",
   "metadata": {},
   "source": [
    "# Initial Inspection"
   ]
  },
  {
   "cell_type": "markdown",
   "metadata": {},
   "source": [
    "The initial inspection of our given data consists of minor edits that, in short, do not cause data leakage of any form. Any kind of edit that does not require the splitting of our data into training, validation, or testing data will be presented here."
   ]
  },
  {
   "cell_type": "markdown",
   "metadata": {},
   "source": [
    "## Inspecting the CSV file for General Information"
   ]
  },
  {
   "cell_type": "code",
   "execution_count": 4,
   "metadata": {},
   "outputs": [
    {
     "name": "stdout",
     "output_type": "stream",
     "text": [
      "<class 'pandas.core.frame.DataFrame'>\n",
      "RangeIndex: 354369 entries, 0 to 354368\n",
      "Data columns (total 16 columns):\n",
      " #   Column             Non-Null Count   Dtype \n",
      "---  ------             --------------   ----- \n",
      " 0   DateCrawled        354369 non-null  object\n",
      " 1   Price              354369 non-null  int64 \n",
      " 2   VehicleType        316879 non-null  object\n",
      " 3   RegistrationYear   354369 non-null  int64 \n",
      " 4   Gearbox            334536 non-null  object\n",
      " 5   Power              354369 non-null  int64 \n",
      " 6   Model              334664 non-null  object\n",
      " 7   Mileage            354369 non-null  int64 \n",
      " 8   RegistrationMonth  354369 non-null  int64 \n",
      " 9   FuelType           321474 non-null  object\n",
      " 10  Brand              354369 non-null  object\n",
      " 11  NotRepaired        283215 non-null  object\n",
      " 12  DateCreated        354369 non-null  object\n",
      " 13  NumberOfPictures   354369 non-null  int64 \n",
      " 14  PostalCode         354369 non-null  int64 \n",
      " 15  LastSeen           354369 non-null  object\n",
      "dtypes: int64(7), object(9)\n",
      "memory usage: 43.3+ MB\n",
      "None \n",
      "\n",
      "         DateCrawled  Price VehicleType  RegistrationYear Gearbox  Power  \\\n",
      "0  24/03/2016 11:52    480         NaN              1993  manual      0   \n",
      "1  24/03/2016 10:58  18300       coupe              2011  manual    190   \n",
      "2  14/03/2016 12:52   9800         suv              2004    auto    163   \n",
      "3  17/03/2016 16:54   1500       small              2001  manual     75   \n",
      "4  31/03/2016 17:25   3600       small              2008  manual     69   \n",
      "\n",
      "   Model  Mileage  RegistrationMonth  FuelType       Brand NotRepaired  \\\n",
      "0   golf   150000                  0    petrol  volkswagen         NaN   \n",
      "1    NaN   125000                  5  gasoline        audi         yes   \n",
      "2  grand   125000                  8  gasoline        jeep         NaN   \n",
      "3   golf   150000                  6    petrol  volkswagen          no   \n",
      "4  fabia    90000                  7  gasoline       skoda          no   \n",
      "\n",
      "        DateCreated  NumberOfPictures  PostalCode          LastSeen  \n",
      "0  24/03/2016 00:00                 0       70435  07/04/2016 03:16  \n",
      "1  24/03/2016 00:00                 0       66954  07/04/2016 01:46  \n",
      "2  14/03/2016 00:00                 0       90480  05/04/2016 12:47  \n",
      "3  17/03/2016 00:00                 0       91074  17/03/2016 17:40  \n",
      "4  31/03/2016 00:00                 0       60437  06/04/2016 10:17  \n"
     ]
    }
   ],
   "source": [
    "#Here is the general info for the file\n",
    "print(raw_df.info(), \"\\n\\n\", raw_df.head())"
   ]
  },
  {
   "cell_type": "markdown",
   "metadata": {},
   "source": [
    "We see obvious corrections that need to be made: First, the data types of DateCrawled, Gearbox, RegistrationMonth, NotRepaired, DateCreated, and LastSeen need to be converted to appropriate data types--the specifics will be demonstrated in the next few sections. Second, several columns that have null values so those need to be imputed or removed. There are likely other modifications that need to be made, which we start by discovering in the initial inspection."
   ]
  },
  {
   "cell_type": "code",
   "execution_count": 5,
   "metadata": {},
   "outputs": [
    {
     "name": "stdout",
     "output_type": "stream",
     "text": [
      "               Price  RegistrationYear          Power        Mileage  \\\n",
      "count  354369.000000     354369.000000  354369.000000  354369.000000   \n",
      "mean     4416.656776       2004.234448     110.094337  128211.172535   \n",
      "std      4514.158514         90.227958     189.850405   37905.341530   \n",
      "min         0.000000       1000.000000       0.000000    5000.000000   \n",
      "25%      1050.000000       1999.000000      69.000000  125000.000000   \n",
      "50%      2700.000000       2003.000000     105.000000  150000.000000   \n",
      "75%      6400.000000       2008.000000     143.000000  150000.000000   \n",
      "max     20000.000000       9999.000000   20000.000000  150000.000000   \n",
      "\n",
      "       RegistrationMonth  NumberOfPictures     PostalCode  \n",
      "count      354369.000000          354369.0  354369.000000  \n",
      "mean            5.714645               0.0   50508.689087  \n",
      "std             3.726421               0.0   25783.096248  \n",
      "min             0.000000               0.0    1067.000000  \n",
      "25%             3.000000               0.0   30165.000000  \n",
      "50%             6.000000               0.0   49413.000000  \n",
      "75%             9.000000               0.0   71083.000000  \n",
      "max            12.000000               0.0   99998.000000  \n"
     ]
    }
   ],
   "source": [
    "#Here are the statistical measurements of the data\n",
    "print(raw_df.describe())"
   ]
  },
  {
   "cell_type": "markdown",
   "metadata": {},
   "source": [
    "Frankly, by the nature of what the column data represents, much of the statistical data is unusable. For example, the standard deviation of the PostalCode column does not acquire significant meaning. However, some measurements may be used in this project at some point."
   ]
  },
  {
   "cell_type": "markdown",
   "metadata": {},
   "source": [
    "## Dropping NumberOfPictures Column"
   ]
  },
  {
   "cell_type": "markdown",
   "metadata": {},
   "source": [
    "Let's check the values within the NumberOfPictures column."
   ]
  },
  {
   "cell_type": "code",
   "execution_count": 6,
   "metadata": {},
   "outputs": [
    {
     "name": "stdout",
     "output_type": "stream",
     "text": [
      "NumberOfPictures\n",
      "0    354369\n",
      "Name: count, dtype: int64\n"
     ]
    }
   ],
   "source": [
    "print(raw_df['NumberOfPictures'].value_counts(dropna=False))"
   ]
  },
  {
   "cell_type": "markdown",
   "metadata": {},
   "source": [
    "The column only contains a single value, 0. Therefore, this will not be useful for either analysis nor machine learning so we can delete it."
   ]
  },
  {
   "cell_type": "code",
   "execution_count": 7,
   "metadata": {},
   "outputs": [],
   "source": [
    "#We now create a dataframe that contains the formatted data that we will work with. This ensure we keep a copy of the dataframe that has no editing done to it\n",
    "formatted_df = raw_df.copy(deep = True)\n",
    "\n",
    "#Here we drop the NumberOfPictures column\n",
    "formatted_df.drop(columns=['NumberOfPictures'], inplace=True)"
   ]
  },
  {
   "cell_type": "code",
   "execution_count": 8,
   "metadata": {},
   "outputs": [
    {
     "name": "stdout",
     "output_type": "stream",
     "text": [
      "Remaining columns: \n",
      "\n",
      "\n",
      "DateCrawled\n",
      "Price\n",
      "VehicleType\n",
      "RegistrationYear\n",
      "Gearbox\n",
      "Power\n",
      "Model\n",
      "Mileage\n",
      "RegistrationMonth\n",
      "FuelType\n",
      "Brand\n",
      "NotRepaired\n",
      "DateCreated\n",
      "PostalCode\n",
      "LastSeen\n"
     ]
    }
   ],
   "source": [
    "#Ensure that the column was dropped\n",
    "print(\"Remaining columns: \\n\\n\")\n",
    "\n",
    "for column in formatted_df.columns:\n",
    "    print(column)"
   ]
  },
  {
   "cell_type": "markdown",
   "metadata": {},
   "source": [
    "We see that the dropping of this column was executed."
   ]
  },
  {
   "cell_type": "markdown",
   "metadata": {},
   "source": [
    "## Changing Various Columns to DateTime Format"
   ]
  },
  {
   "cell_type": "markdown",
   "metadata": {},
   "source": [
    "The columns DateCrawled, DateCreated, and LastSeen are converted to DateTime type because extracting date-related information from object-type dates is cumbersome--contrary to the versatility of DateTime type."
   ]
  },
  {
   "cell_type": "code",
   "execution_count": 9,
   "metadata": {},
   "outputs": [
    {
     "name": "stdout",
     "output_type": "stream",
     "text": [
      "0    24/03/2016 11:52\n",
      "1    24/03/2016 10:58\n",
      "2    14/03/2016 12:52\n",
      "3    17/03/2016 16:54\n",
      "4    31/03/2016 17:25\n",
      "Name: DateCrawled, dtype: object\n",
      "0    24/03/2016 00:00\n",
      "1    24/03/2016 00:00\n",
      "2    14/03/2016 00:00\n",
      "3    17/03/2016 00:00\n",
      "4    31/03/2016 00:00\n",
      "Name: DateCreated, dtype: object\n",
      "0    07/04/2016 03:16\n",
      "1    07/04/2016 01:46\n",
      "2    05/04/2016 12:47\n",
      "3    17/03/2016 17:40\n",
      "4    06/04/2016 10:17\n",
      "Name: LastSeen, dtype: object\n"
     ]
    }
   ],
   "source": [
    "#Here are the first 10 entries of the DateCrawled, DateCreated, and Last seen Columns\n",
    "\n",
    "#Datecrawled\n",
    "print(formatted_df['DateCrawled'].head(5))\n",
    "\n",
    "#DateCreated\n",
    "print(formatted_df['DateCreated'].head(5))\n",
    "\n",
    "#LastSeen\n",
    "print(formatted_df['LastSeen'].head(5))"
   ]
  },
  {
   "cell_type": "markdown",
   "metadata": {},
   "source": [
    "We need to convert these columns into datetime format."
   ]
  },
  {
   "cell_type": "code",
   "execution_count": 10,
   "metadata": {},
   "outputs": [],
   "source": [
    "\"\"\"\n",
    "Here we convert the aformentioned columns to datetime format, and the month will be displayed first in our datetime\n",
    "objects since that is the standard description of a date in the US.\n",
    "\"\"\"\n",
    "\n",
    "#Here we convert the DateCrawled column to datetime format\n",
    "formatted_df['DateCrawled'] = pd.to_datetime(formatted_df['DateCrawled'], errors = 'coerce', dayfirst = True)\n",
    "\n",
    "#Here we convert the DateCreated column to datetime format\n",
    "formatted_df['DateCreated'] = pd.to_datetime(formatted_df['DateCreated'], errors='coerce', dayfirst = True)\n",
    "\n",
    "#Here we convert the LastSeen column to datetime format\n",
    "formatted_df['LastSeen'] = pd.to_datetime(formatted_df['LastSeen'], errors='coerce', dayfirst=True)"
   ]
  },
  {
   "cell_type": "markdown",
   "metadata": {},
   "source": [
    "Let's check to see if the changes were made"
   ]
  },
  {
   "cell_type": "code",
   "execution_count": 11,
   "metadata": {},
   "outputs": [
    {
     "name": "stdout",
     "output_type": "stream",
     "text": [
      "<class 'pandas.core.frame.DataFrame'>\n",
      "RangeIndex: 354369 entries, 0 to 354368\n",
      "Data columns (total 3 columns):\n",
      " #   Column       Non-Null Count   Dtype         \n",
      "---  ------       --------------   -----         \n",
      " 0   DateCrawled  354369 non-null  datetime64[ns]\n",
      " 1   DateCreated  354369 non-null  datetime64[ns]\n",
      " 2   LastSeen     354369 non-null  datetime64[ns]\n",
      "dtypes: datetime64[ns](3)\n",
      "memory usage: 8.1 MB\n",
      "None\n"
     ]
    }
   ],
   "source": [
    "#Check to see if DateCrawled, DateCreated, and LastSeen were converted to datetime format correctly\n",
    "print(formatted_df[['DateCrawled', 'DateCreated', 'LastSeen']].info())"
   ]
  },
  {
   "cell_type": "markdown",
   "metadata": {},
   "source": [
    "Clearly the columns were properly converted to datetime type."
   ]
  },
  {
   "cell_type": "markdown",
   "metadata": {},
   "source": [
    "## Checking Registration Month Feature"
   ]
  },
  {
   "cell_type": "markdown",
   "metadata": {},
   "source": [
    "The analysis of the colums is under the EDA section. To recap from the EDA's results, there's no discernable correlation between registration month and target. They all have relatively similar quartiles and medians, as well a, similar clusters of outliers. We do have a column of 'month 0', which is likely a typo or a placeholder for null values. Imputing these this categoriy with the mode would likely not change anything--except for the mode itself. Therefore, we can safely drop this column so that we do not use it as a feature in the training and testing of our models."
   ]
  },
  {
   "cell_type": "code",
   "execution_count": 12,
   "metadata": {},
   "outputs": [],
   "source": [
    "formatted_df = formatted_df.drop(columns=['RegistrationMonth'])"
   ]
  },
  {
   "cell_type": "markdown",
   "metadata": {},
   "source": [
    "Let's check to ensure that the RegistrationMonth columns was dropped."
   ]
  },
  {
   "cell_type": "code",
   "execution_count": 13,
   "metadata": {},
   "outputs": [
    {
     "name": "stdout",
     "output_type": "stream",
     "text": [
      "Index(['DateCrawled', 'Price', 'VehicleType', 'RegistrationYear', 'Gearbox',\n",
      "       'Power', 'Model', 'Mileage', 'FuelType', 'Brand', 'NotRepaired',\n",
      "       'DateCreated', 'PostalCode', 'LastSeen'],\n",
      "      dtype='object')\n"
     ]
    }
   ],
   "source": [
    "print(formatted_df.columns)"
   ]
  },
  {
   "cell_type": "markdown",
   "metadata": {},
   "source": [
    "# Splitting the Data"
   ]
  },
  {
   "cell_type": "markdown",
   "metadata": {},
   "source": [
    "Now that we have finished the minor edits within our dataset, we need to split it into training, validation, and testing data subsets. This is performed so that we prevent any form of data leakage during exploratory data analysis and model training."
   ]
  },
  {
   "cell_type": "code",
   "execution_count": 14,
   "metadata": {},
   "outputs": [],
   "source": [
    "#Here we define the potential target (some could be deleted later) and feature columns\n",
    "target = formatted_df['Price']\n",
    "potential_features = formatted_df.drop(columns=['Price'])\n",
    "\n",
    "#Now we are going to split the data into temporary training and testing data\n",
    "X_temp, X_test, y_temp, y_test = train_test_split(potential_features, target, test_size=0.2, random_state=12345)\n",
    "\n",
    "#Now we will split the temporary training data into training and validation data\n",
    "X_train, X_valid, y_train, y_valid = train_test_split(X_temp, y_temp, test_size=0.25, random_state=12345)"
   ]
  },
  {
   "cell_type": "markdown",
   "metadata": {},
   "source": [
    "# Exploratory Data Analysis before Preprocessing"
   ]
  },
  {
   "cell_type": "markdown",
   "metadata": {},
   "source": [
    "The purpose of this section is to do EDA on our data which has undergone minor formatting. There are statistical tests that we cannot perform until the data has been completely preprocessed; thus, after the complete preprocessing of our data, there will be another EDA section exploring deeper patterns in the data. The analysis in this section is to spot issues in our data and to acquire basic understanding about it."
   ]
  },
  {
   "cell_type": "markdown",
   "metadata": {},
   "source": [
    "Column definitions\n",
    "df_name\n",
    "\n",
    "The name you passed into the function (like \"X_train_linear\"), so you can remember which DataFrame the profile came from.\n",
    "\n",
    "column\n",
    "\n",
    "The name of the column being analyzed.\n",
    "\n",
    "dtype\n",
    "\n",
    "The column’s data type (int64, float64, object, datetime64[ns], etc.).\n",
    "\n",
    "null_count\n",
    "\n",
    "The total number of missing (NaN) values in the column.\n",
    "\n",
    "missing_pct\n",
    "\n",
    "The percentage of missing values in the column, relative to the total rows in that DataFrame.\n",
    "\n",
    "duplicate_count\n",
    "\n",
    "The number of rows in which this column’s value is duplicated somewhere else in that same column (i.e., how many entries are repeats).\n",
    "\n",
    "unique_count\n",
    "\n",
    "How many distinct values are present in the column.\n",
    "\n",
    "rare_level_count\n",
    "\n",
    "How many unique values appear 5 times or fewer in the column.\n",
    "\n",
    "This is useful in categorical features where some categories are too rare to be statistically useful — often candidates for grouping together.\n",
    "\n",
    "mean\n",
    "\n",
    "The arithmetic mean (average) of the column (numeric columns only, otherwise NaN).\n",
    "\n",
    "median\n",
    "\n",
    "The median value of the column (numeric columns only).\n",
    "\n",
    "std\n",
    "\n",
    "The standard deviation — tells you how spread out the values are."
   ]
  },
  {
   "cell_type": "markdown",
   "metadata": {},
   "source": [
    "In this section, we will perform analysis on both of our training datasets: X_train and y_train. More specificially, we will visualize some of the distributions within these columns, explore relationships between potential features and the target, and more. This information will be used in the preprocessing of our data, which is the next section."
   ]
  },
  {
   "cell_type": "markdown",
   "metadata": {},
   "source": [
    "## Helper Functions for Data Analysis"
   ]
  },
  {
   "cell_type": "code",
   "execution_count": 15,
   "metadata": {},
   "outputs": [],
   "source": [
    "def column_profile(df: pd.DataFrame, column: str, df_name: str = \"df\") -> pd.DataFrame:\n",
    "    \"\"\"\n",
    "    Create a one-row summary table for a single column in a DataFrame.\n",
    "    Adapts to numeric, categorical, or datetime columns.\n",
    "    \"\"\"\n",
    "    if column not in df.columns:\n",
    "        raise KeyError(f\"Column '{column}' not found in DataFrame.\")\n",
    "        \n",
    "    s = df[column]\n",
    "    n_rows = len(s)\n",
    "    dtype = str(s.dtype)\n",
    "    \n",
    "    missing_count = int(s.isna().sum())\n",
    "    missing_pct = float(missing_count / n_rows * 100) if n_rows else np.nan\n",
    "    \n",
    "    # duplicates among non-null values (count entries that repeat beyond their first occurrence)\n",
    "    non_null = s.dropna()\n",
    "    duplicates_count = int(non_null.size - non_null.nunique())\n",
    "    \n",
    "    unique_count = int(non_null.nunique())\n",
    "    \n",
    "    # Base row\n",
    "    out = {\n",
    "        \"dataframe_name\": df_name,\n",
    "        \"column_name\": column,\n",
    "        \"dtype\": dtype,\n",
    "        \"n_rows\": n_rows,\n",
    "        \"missing_count\": missing_count,\n",
    "        \"missing_pct\": round(missing_pct, 3),\n",
    "        \"unique_count\": unique_count,\n",
    "        \"duplicate_values_in_column\": duplicates_count,\n",
    "    }\n",
    "    \n",
    "    # Most frequent (mode) value and its count (on non-null values)\n",
    "    if non_null.size > 0:\n",
    "        vc = non_null.value_counts(dropna=True)\n",
    "        top_value = vc.index[0]\n",
    "        top_value_count = int(vc.iloc[0])\n",
    "        out[\"top_value\"] = top_value\n",
    "        out[\"top_value_count\"] = top_value_count\n",
    "    else:\n",
    "        out[\"top_value\"] = np.nan\n",
    "        out[\"top_value_count\"] = 0\n",
    "\n",
    "    # Numeric extras\n",
    "    if ptypes.is_numeric_dtype(s):\n",
    "        s_num = pd.to_numeric(s, errors=\"coerce\").dropna()\n",
    "        if s_num.size > 0:\n",
    "            out.update({\n",
    "                \"min\": float(s_num.min()),\n",
    "                \"q25\": float(s_num.quantile(0.25)),\n",
    "                \"median\": float(s_num.median()),\n",
    "                \"q75\": float(s_num.quantile(0.75)),\n",
    "                \"max\": float(s_num.max()),\n",
    "                \"mean\": float(s_num.mean()),\n",
    "                \"std\": float(s_num.std(ddof=1)) if s_num.size > 1 else 0.0,\n",
    "                \"skew\": float(s_num.skew()) if s_num.size > 2 else np.nan,\n",
    "                \"kurtosis\": float(s_num.kurt()) if s_num.size > 3 else np.nan,\n",
    "                \"zero_count\": int((s_num == 0).sum()),\n",
    "                \"negative_count\": int((s_num < 0).sum()),\n",
    "            })\n",
    "            # IQR outlier count (1.5*IQR rule)\n",
    "            q1, q3 = s_num.quantile([0.25, 0.75])\n",
    "            iqr = q3 - q1\n",
    "            lower = q1 - 1.5 * iqr\n",
    "            upper = q3 + 1.5 * iqr\n",
    "            out[\"iqr_outlier_count\"] = int(((s_num < lower) | (s_num > upper)).sum())\n",
    "        else:\n",
    "            out.update({\n",
    "                \"min\": np.nan, \"q25\": np.nan, \"median\": np.nan, \"q75\": np.nan,\n",
    "                \"max\": np.nan, \"mean\": np.nan, \"std\": np.nan, \"skew\": np.nan,\n",
    "                \"kurtosis\": np.nan, \"zero_count\": 0, \"negative_count\": 0,\n",
    "                \"iqr_outlier_count\": 0\n",
    "            })\n",
    "    \n",
    "    # Datetime extras\n",
    "    elif ptypes.is_datetime64_any_dtype(s):\n",
    "        s_dt = s.dropna()\n",
    "        if s_dt.size > 0:\n",
    "            min_date = s_dt.min()\n",
    "            max_date = s_dt.max()\n",
    "            span_days = (max_date - min_date).days\n",
    "            out.update({\n",
    "                \"min_date\": min_date,\n",
    "                \"max_date\": max_date,\n",
    "                \"span_days\": int(span_days),\n",
    "                \"min_year\": int(min_date.year),\n",
    "                \"max_year\": int(max_date.year),\n",
    "            })\n",
    "        else:\n",
    "            out.update({\n",
    "                \"min_date\": pd.NaT, \"max_date\": pd.NaT, \"span_days\": np.nan,\n",
    "                \"min_year\": np.nan, \"max_year\": np.nan\n",
    "            })\n",
    "    \n",
    "    # Categorical / object / boolean extras\n",
    "    else:\n",
    "        # treat as categorical\n",
    "        s_cat = s.astype(\"object\")\n",
    "        vc = s_cat.value_counts(dropna=True)\n",
    "        top5 = [f\"{str(idx)}:{int(cnt)}\" for idx, cnt in vc.head(5).items()]\n",
    "        out[\"top_5_levels\"] = \", \".join(top5)\n",
    "        total_non_null = int(s_cat.notna().sum())\n",
    "        if total_non_null > 0:\n",
    "            rare_levels_count = int((vc / total_non_null < 0.01).sum())\n",
    "        else:\n",
    "            rare_levels_count = 0\n",
    "        out[\"rare_levels_count(<1%)\"] = rare_levels_count\n",
    "        # empty-string count\n",
    "        try:\n",
    "            empty_count = int((s_cat.fillna(\"\").astype(str).str.strip() == \"\").sum())\n",
    "        except Exception:\n",
    "            empty_count = np.nan\n",
    "        out[\"empty_string_count\"] = empty_count\n",
    "\n",
    "    return pd.DataFrame([out])\n",
    "\n",
    "\n",
    "def profile_columns(df: pd.DataFrame, columns, df_name: str = \"df\") -> pd.DataFrame:\n",
    "    \"\"\"Profile multiple columns and return a summary table.\"\"\"\n",
    "    if isinstance(columns, str):\n",
    "        columns = [columns]\n",
    "    tables = [column_profile(df, col, df_name=df_name) for col in columns if col in df.columns]\n",
    "    if not tables:\n",
    "        raise ValueError(\"None of the specified columns were found in the DataFrame.\")\n",
    "    summary = pd.concat(tables, ignore_index=True)\n",
    "    return summary\n",
    "\n",
    "import pandas as pd\n",
    "import numpy as np\n",
    "import seaborn as sns\n",
    "import matplotlib.pyplot as plt\n",
    "\n",
    "def eda_categorical_overview(df, col, top_n=20, rare_pct=1.0, df_name=\"df\"):\n",
    "    s = df[col]\n",
    "\n",
    "    # counts (exclude NaN for category stats; keep NaN for missing calc)\n",
    "    counts = s.value_counts(dropna=True)\n",
    "    n = len(s)\n",
    "    total_non_null = s.notna().sum()\n",
    "\n",
    "    # summary numbers\n",
    "    missing_count = int(s.isna().sum())\n",
    "    missing_pct = (missing_count / n * 100) if n else np.nan\n",
    "    unique_count = int(s.nunique(dropna=True))\n",
    "    empty_count = int(s.astype(\"object\").fillna(\"\").str.strip().eq(\"\").sum())\n",
    "\n",
    "    rare_levels_count = int(((counts / counts.sum()) * 100 < rare_pct).sum())\n",
    "    topK = counts.head(top_n)\n",
    "    topK_coverage_pct = float(topK.sum() / counts.sum() * 100) if counts.sum() else np.nan\n",
    "\n",
    "    # summary table\n",
    "    summary = pd.DataFrame([{\n",
    "        \"dataframe\": df_name,\n",
    "        \"column\": col,\n",
    "        \"rows\": n,\n",
    "        \"missing_count\": missing_count,\n",
    "        \"missing_pct\": round(missing_pct, 2),\n",
    "        \"unique_count\": unique_count,\n",
    "        \"empty_string_count\": empty_count,\n",
    "        f\"rare_levels_count(<{rare_pct}%)\": rare_levels_count,\n",
    "        f\"top{top_n}_coverage_pct\": round(topK_coverage_pct, 1),\n",
    "        \"most_common\": counts.index[0] if len(counts) else None,\n",
    "        \"most_common_count\": int(counts.iloc[0]) if len(counts) else 0\n",
    "    }])\n",
    "\n",
    "    # display summary nicely\n",
    "    try:\n",
    "        from IPython.display import display\n",
    "        display(summary.style.format({\n",
    "            \"missing_pct\": \"{:.2f}\",\n",
    "            f\"top{top_n}_coverage_pct\": \"{:.1f}\"\n",
    "        }))\n",
    "    except Exception:\n",
    "        print(summary)\n",
    "\n",
    "    # ---- Plot 1: Pareto of ALL categories (keeps full distribution) ----\n",
    "    sorted_counts = counts.sort_values(ascending=False)\n",
    "    cum_pct = sorted_counts.cumsum() / sorted_counts.sum() * 100 if sorted_counts.sum() else pd.Series([])\n",
    "\n",
    "    fig, ax1 = plt.subplots(figsize=(10, 4))\n",
    "    ax1.bar(range(len(sorted_counts)), sorted_counts.values)\n",
    "    ax1.set_xlabel(f\"{col} (sorted by frequency)\")\n",
    "    ax1.set_ylabel(\"Count\")\n",
    "\n",
    "    ax2 = ax1.twinx()\n",
    "    ax2.plot(range(len(cum_pct)), cum_pct.values, color=\"crimson\")\n",
    "    ax2.set_ylabel(\"Cumulative % of rows\")\n",
    "    ax2.axhline(80, color=\"gray\", ls=\"--\", lw=1)   # 80/20 guideline\n",
    "    plt.title(f\"Pareto of '{col}' (full distribution)\")\n",
    "    plt.tight_layout()\n",
    "    plt.show()\n",
    "\n",
    "    # ---- Plot 2: Top-N categories (readable labels) ----\n",
    "    plt.figure(figsize=(10, 6))\n",
    "    sns.barplot(x=topK.values, y=topK.index)\n",
    "    plt.xlabel(\"Count\")\n",
    "    plt.ylabel(col)\n",
    "    plt.title(f\"Top {top_n} '{col}' (covers {topK_coverage_pct:.1f}% of non-missing)\")\n",
    "    plt.tight_layout()\n",
    "    plt.show()\n",
    "\n",
    "    return summary\n",
    "\n",
    "\n"
   ]
  },
  {
   "cell_type": "markdown",
   "metadata": {},
   "source": [
    "## Analysis of Model"
   ]
  },
  {
   "cell_type": "code",
   "execution_count": 16,
   "metadata": {},
   "outputs": [
    {
     "name": "stdout",
     "output_type": "stream",
     "text": [
      "General information about the Model column:\n",
      "\n",
      "<class 'pandas.core.series.Series'>\n",
      "Index: 212621 entries, 232808 to 6911\n",
      "Series name: Model\n",
      "Non-Null Count   Dtype \n",
      "--------------   ----- \n",
      "200893 non-null  object\n",
      "dtypes: object(1)\n",
      "memory usage: 3.2+ MB\n",
      "None\n"
     ]
    }
   ],
   "source": [
    "#Here is some general information about the model column\n",
    "print(\"General information about the Model column:\\n\")\n",
    "print(X_train['Model'].info())\n"
   ]
  },
  {
   "cell_type": "markdown",
   "metadata": {},
   "source": [
    "We clearly see that we have some existing null values within this column. The object type is appropriate since this column stores the various car models. Of course, if we use this column as a feature, then we will have to encode it later for modeling purposes. Let's get more information on this column."
   ]
  },
  {
   "cell_type": "code",
   "execution_count": 17,
   "metadata": {},
   "outputs": [
    {
     "data": {
      "text/html": [
       "<div>\n",
       "<style scoped>\n",
       "    .dataframe tbody tr th:only-of-type {\n",
       "        vertical-align: middle;\n",
       "    }\n",
       "\n",
       "    .dataframe tbody tr th {\n",
       "        vertical-align: top;\n",
       "    }\n",
       "\n",
       "    .dataframe thead th {\n",
       "        text-align: right;\n",
       "    }\n",
       "</style>\n",
       "<table border=\"1\" class=\"dataframe\">\n",
       "  <thead>\n",
       "    <tr style=\"text-align: right;\">\n",
       "      <th></th>\n",
       "      <th>dataframe_name</th>\n",
       "      <th>column_name</th>\n",
       "      <th>dtype</th>\n",
       "      <th>n_rows</th>\n",
       "      <th>missing_count</th>\n",
       "      <th>missing_pct</th>\n",
       "      <th>unique_count</th>\n",
       "      <th>duplicate_values_in_column</th>\n",
       "      <th>top_value</th>\n",
       "      <th>top_value_count</th>\n",
       "      <th>top_5_levels</th>\n",
       "      <th>rare_levels_count(&lt;1%)</th>\n",
       "      <th>empty_string_count</th>\n",
       "    </tr>\n",
       "  </thead>\n",
       "  <tbody>\n",
       "    <tr>\n",
       "      <th>0</th>\n",
       "      <td>Model</td>\n",
       "      <td>Model</td>\n",
       "      <td>object</td>\n",
       "      <td>212621</td>\n",
       "      <td>11728</td>\n",
       "      <td>5.516</td>\n",
       "      <td>250</td>\n",
       "      <td>200643</td>\n",
       "      <td>golf</td>\n",
       "      <td>17553</td>\n",
       "      <td>golf:17553, other:14677, 3er:11874, polo:7941,...</td>\n",
       "      <td>224</td>\n",
       "      <td>11728</td>\n",
       "    </tr>\n",
       "  </tbody>\n",
       "</table>\n",
       "</div>"
      ],
      "text/plain": [
       "  dataframe_name column_name   dtype  n_rows  missing_count  missing_pct  \\\n",
       "0          Model       Model  object  212621          11728        5.516   \n",
       "\n",
       "   unique_count  duplicate_values_in_column top_value  top_value_count  \\\n",
       "0           250                      200643      golf            17553   \n",
       "\n",
       "                                        top_5_levels  rare_levels_count(<1%)  \\\n",
       "0  golf:17553, other:14677, 3er:11874, polo:7941,...                     224   \n",
       "\n",
       "   empty_string_count  \n",
       "0               11728  "
      ]
     },
     "metadata": {},
     "output_type": "display_data"
    }
   ],
   "source": [
    "#More general information about our Model column\n",
    "model_info = column_profile(X_train, 'Model', \"Model\")\n",
    "\n",
    "#Results\n",
    "display(model_info)"
   ]
  },
  {
   "cell_type": "markdown",
   "metadata": {},
   "source": [
    "Missing values make up roughly 5% of our data. Moreover, the only way to impute these categorical missing values is to impute them with the mode. However, this could lead to unexpected issues such as assigning a car model with a brand that does acquire that particular model, which is formatting data in a way that is misrepresentative. Therefore, the null values should be removed. This is usually performed in the preprocessing, but we will need to delete them now so that we can perform some statistical tests."
   ]
  },
  {
   "cell_type": "code",
   "execution_count": null,
   "metadata": {},
   "outputs": [
    {
     "name": "stdout",
     "output_type": "stream",
     "text": [
      "Dropped 11728 rows from training data due to null 'Model'\n",
      "Remaining rows: 200893\n"
     ]
    }
   ],
   "source": [
    "#This is the number of nulls before we drop them\n",
    "null_count_before = X_train['Model'].isnull().sum()\n",
    "\n",
    "#Creating the mask used for X_train and y_train\n",
    "mask = X_train['Model'].notna()\n",
    "\n",
    "#Filtering using the mask\n",
    "X_train = X_train.loc[mask].reset_index(drop=True)\n",
    "y_train = y_train.loc[mask].reset_index(drop=True)\n",
    "\n",
    "#Results\n",
    "print(f\"Dropped {null_count_before} rows from training data due to null 'Model'\")\n",
    "print(f\"Remaining rows: {len(X_train)}\")"
   ]
  },
  {
   "cell_type": "markdown",
   "metadata": {},
   "source": [
    "Our null values were successfully dropped. Now can check the distribution of this column to see if we can infer anything from it."
   ]
  },
  {
   "cell_type": "code",
   "execution_count": 19,
   "metadata": {},
   "outputs": [
    {
     "name": "stdout",
     "output_type": "stream",
     "text": [
      "  dataframe column    rows  missing_count  missing_pct  unique_count  \\\n",
      "0   X_train  Model  200893              0          0.0           250   \n",
      "\n",
      "   empty_string_count  rare_levels_count(<1.0%)  top25_coverage_pct  \\\n",
      "0                   0                       224                65.1   \n",
      "\n",
      "  most_common  most_common_count  \n",
      "0        golf              17553  \n"
     ]
    },
    {
     "data": {
      "image/png": "[encoded data removed]",
      "text/plain": [
       "<Figure size 1000x400 with 2 Axes>"
      ]
     },
     "metadata": {},
     "output_type": "display_data"
    },
    {
     "data": {
      "image/png": "[encoded data removed]",
      "text/plain": [
       "<Figure size 1000x600 with 1 Axes>"
      ]
     },
     "metadata": {},
     "output_type": "display_data"
    }
   ],
   "source": [
    "# Example for your Model column on the training set\n",
    "summary_model = eda_categorical_overview(X_train, \"Model\", top_n=25, rare_pct=1.0, df_name=\"X_train\")"
   ]
  },
  {
   "cell_type": "markdown",
   "metadata": {},
   "source": [
    "The Model column has a high cardinality with 250 unique car models. Few models make up the majority of the data: the top 25 models make up 65.1% of the model frequencies with 'golf' being the mode. The distribution is greatly unbalanced with a right tail of rare models appearing very few times. This unbalance should be dealt with in the preprocessing of our data to prevent any instability during model training."
   ]
  },
  {
   "cell_type": "markdown",
   "metadata": {},
   "source": [
    "## Analysis on DateCrawled"
   ]
  },
  {
   "cell_type": "markdown",
   "metadata": {},
   "source": [
    "## Analysis on Price"
   ]
  },
  {
   "cell_type": "markdown",
   "metadata": {},
   "source": [
    "## Analysis on VehicleType"
   ]
  },
  {
   "cell_type": "markdown",
   "metadata": {},
   "source": [
    "## Analysis on Registration Year"
   ]
  },
  {
   "cell_type": "markdown",
   "metadata": {},
   "source": [
    "## Analysis on Gearbox"
   ]
  },
  {
   "cell_type": "markdown",
   "metadata": {},
   "source": [
    "## Analysis on Power"
   ]
  },
  {
   "cell_type": "markdown",
   "metadata": {},
   "source": [
    "## Analysis on Model"
   ]
  },
  {
   "cell_type": "markdown",
   "metadata": {},
   "source": [
    "## Analysis on Mileage"
   ]
  },
  {
   "cell_type": "markdown",
   "metadata": {},
   "source": [
    "## Analysis on Registration Month"
   ]
  },
  {
   "cell_type": "markdown",
   "metadata": {},
   "source": [
    "Let's check the first few entire of our registration month column."
   ]
  },
  {
   "cell_type": "code",
   "execution_count": 20,
   "metadata": {},
   "outputs": [
    {
     "ename": "KeyError",
     "evalue": "'RegistrationMonth'",
     "output_type": "error",
     "traceback": [
      "\u001b[31m---------------------------------------------------------------------------\u001b[39m",
      "\u001b[31mKeyError\u001b[39m                                  Traceback (most recent call last)",
      "\u001b[36mFile \u001b[39m\u001b[32m/Library/Frameworks/Python.framework/Versions/3.13/lib/python3.13/site-packages/pandas/core/indexes/base.py:3812\u001b[39m, in \u001b[36mIndex.get_loc\u001b[39m\u001b[34m(self, key)\u001b[39m\n\u001b[32m   3811\u001b[39m \u001b[38;5;28;01mtry\u001b[39;00m:\n\u001b[32m-> \u001b[39m\u001b[32m3812\u001b[39m     \u001b[38;5;28;01mreturn\u001b[39;00m \u001b[38;5;28;43mself\u001b[39;49m\u001b[43m.\u001b[49m\u001b[43m_engine\u001b[49m\u001b[43m.\u001b[49m\u001b[43mget_loc\u001b[49m\u001b[43m(\u001b[49m\u001b[43mcasted_key\u001b[49m\u001b[43m)\u001b[49m\n\u001b[32m   3813\u001b[39m \u001b[38;5;28;01mexcept\u001b[39;00m \u001b[38;5;167;01mKeyError\u001b[39;00m \u001b[38;5;28;01mas\u001b[39;00m err:\n",
      "\u001b[36mFile \u001b[39m\u001b[32mpandas/_libs/index.pyx:167\u001b[39m, in \u001b[36mpandas._libs.index.IndexEngine.get_loc\u001b[39m\u001b[34m()\u001b[39m\n",
      "\u001b[36mFile \u001b[39m\u001b[32mpandas/_libs/index.pyx:196\u001b[39m, in \u001b[36mpandas._libs.index.IndexEngine.get_loc\u001b[39m\u001b[34m()\u001b[39m\n",
      "\u001b[36mFile \u001b[39m\u001b[32mpandas/_libs/hashtable_class_helper.pxi:7088\u001b[39m, in \u001b[36mpandas._libs.hashtable.PyObjectHashTable.get_item\u001b[39m\u001b[34m()\u001b[39m\n",
      "\u001b[36mFile \u001b[39m\u001b[32mpandas/_libs/hashtable_class_helper.pxi:7096\u001b[39m, in \u001b[36mpandas._libs.hashtable.PyObjectHashTable.get_item\u001b[39m\u001b[34m()\u001b[39m\n",
      "\u001b[31mKeyError\u001b[39m: 'RegistrationMonth'",
      "\nThe above exception was the direct cause of the following exception:\n",
      "\u001b[31mKeyError\u001b[39m                                  Traceback (most recent call last)",
      "\u001b[36mCell\u001b[39m\u001b[36m \u001b[39m\u001b[32mIn[20]\u001b[39m\u001b[32m, line 1\u001b[39m\n\u001b[32m----> \u001b[39m\u001b[32m1\u001b[39m \u001b[38;5;28mprint\u001b[39m(\u001b[43mformatted_df\u001b[49m\u001b[43m[\u001b[49m\u001b[33;43m'\u001b[39;49m\u001b[33;43mRegistrationMonth\u001b[39;49m\u001b[33;43m'\u001b[39;49m\u001b[43m]\u001b[49m.head(\u001b[32m10\u001b[39m))\n",
      "\u001b[36mFile \u001b[39m\u001b[32m/Library/Frameworks/Python.framework/Versions/3.13/lib/python3.13/site-packages/pandas/core/frame.py:4107\u001b[39m, in \u001b[36mDataFrame.__getitem__\u001b[39m\u001b[34m(self, key)\u001b[39m\n\u001b[32m   4105\u001b[39m \u001b[38;5;28;01mif\u001b[39;00m \u001b[38;5;28mself\u001b[39m.columns.nlevels > \u001b[32m1\u001b[39m:\n\u001b[32m   4106\u001b[39m     \u001b[38;5;28;01mreturn\u001b[39;00m \u001b[38;5;28mself\u001b[39m._getitem_multilevel(key)\n\u001b[32m-> \u001b[39m\u001b[32m4107\u001b[39m indexer = \u001b[38;5;28;43mself\u001b[39;49m\u001b[43m.\u001b[49m\u001b[43mcolumns\u001b[49m\u001b[43m.\u001b[49m\u001b[43mget_loc\u001b[49m\u001b[43m(\u001b[49m\u001b[43mkey\u001b[49m\u001b[43m)\u001b[49m\n\u001b[32m   4108\u001b[39m \u001b[38;5;28;01mif\u001b[39;00m is_integer(indexer):\n\u001b[32m   4109\u001b[39m     indexer = [indexer]\n",
      "\u001b[36mFile \u001b[39m\u001b[32m/Library/Frameworks/Python.framework/Versions/3.13/lib/python3.13/site-packages/pandas/core/indexes/base.py:3819\u001b[39m, in \u001b[36mIndex.get_loc\u001b[39m\u001b[34m(self, key)\u001b[39m\n\u001b[32m   3814\u001b[39m     \u001b[38;5;28;01mif\u001b[39;00m \u001b[38;5;28misinstance\u001b[39m(casted_key, \u001b[38;5;28mslice\u001b[39m) \u001b[38;5;129;01mor\u001b[39;00m (\n\u001b[32m   3815\u001b[39m         \u001b[38;5;28misinstance\u001b[39m(casted_key, abc.Iterable)\n\u001b[32m   3816\u001b[39m         \u001b[38;5;129;01mand\u001b[39;00m \u001b[38;5;28many\u001b[39m(\u001b[38;5;28misinstance\u001b[39m(x, \u001b[38;5;28mslice\u001b[39m) \u001b[38;5;28;01mfor\u001b[39;00m x \u001b[38;5;129;01min\u001b[39;00m casted_key)\n\u001b[32m   3817\u001b[39m     ):\n\u001b[32m   3818\u001b[39m         \u001b[38;5;28;01mraise\u001b[39;00m InvalidIndexError(key)\n\u001b[32m-> \u001b[39m\u001b[32m3819\u001b[39m     \u001b[38;5;28;01mraise\u001b[39;00m \u001b[38;5;167;01mKeyError\u001b[39;00m(key) \u001b[38;5;28;01mfrom\u001b[39;00m\u001b[38;5;250m \u001b[39m\u001b[34;01merr\u001b[39;00m\n\u001b[32m   3820\u001b[39m \u001b[38;5;28;01mexcept\u001b[39;00m \u001b[38;5;167;01mTypeError\u001b[39;00m:\n\u001b[32m   3821\u001b[39m     \u001b[38;5;66;03m# If we have a listlike key, _check_indexing_error will raise\u001b[39;00m\n\u001b[32m   3822\u001b[39m     \u001b[38;5;66;03m#  InvalidIndexError. Otherwise we fall through and re-raise\u001b[39;00m\n\u001b[32m   3823\u001b[39m     \u001b[38;5;66;03m#  the TypeError.\u001b[39;00m\n\u001b[32m   3824\u001b[39m     \u001b[38;5;28mself\u001b[39m._check_indexing_error(key)\n",
      "\u001b[31mKeyError\u001b[39m: 'RegistrationMonth'"
     ]
    }
   ],
   "source": [
    "print(formatted_df['RegistrationMonth'].head(10))"
   ]
  },
  {
   "cell_type": "markdown",
   "metadata": {},
   "source": [
    "Though registration year could certainly affect the pricing of a car, the month may not have as great of an impact. Let's check to see the correlation between the month feature and the pricing of a car. If the correlation is low, we will drop this column and not use it as a feature."
   ]
  },
  {
   "cell_type": "code",
   "execution_count": null,
   "metadata": {},
   "outputs": [],
   "source": [
    "#Since the many missing entries '0', we need to replace those with null values and drop them to find the pearson correlation\n",
    "\n",
    "#Make a copy of our dataframe for testing\n",
    "correlation_test_df = formatted_df.copy(deep = True)\n",
    "\n",
    "#Replacing the 0's with null values\n",
    "correlation_test_df['RegistrationMonth'] = correlation_test_df['RegistrationMonth'].astype('Int64').replace(0, pd.NA)\n",
    "\n",
    "#Calculating the correlation between registration month and vehicle pricing; we drop any row that contains a null registration month for more accurate results\n",
    "correlation = correlation_test_df[['RegistrationMonth', 'Price']].dropna().corr().loc['RegistrationMonth', 'Price']\n",
    "\n",
    "#Result\n",
    "correlation"
   ]
  },
  {
   "cell_type": "markdown",
   "metadata": {},
   "source": [
    "We see that there is a weak positive correlation between registration month of a car and it's value. Let's take a look at the distribution."
   ]
  },
  {
   "cell_type": "code",
   "execution_count": null,
   "metadata": {},
   "outputs": [],
   "source": [
    "#Scatterplot to see what visual correlation is between registration month and price\n",
    "sns.scatterplot(data=formatted_df, x = 'RegistrationMonth', y = 'Price')\n",
    "plt.title('Registration Month vs Price')\n",
    "plt.show()"
   ]
  },
  {
   "cell_type": "markdown",
   "metadata": {},
   "source": [
    "Clearly, there is not a discernable pattern here. This is likely due to the fact that this is a categorical column and there are many values per category. Let's visualize the distribution using a boxplot for each category. This may help to see a particular pattern."
   ]
  },
  {
   "cell_type": "code",
   "execution_count": null,
   "metadata": {},
   "outputs": [],
   "source": [
    "sns.boxplot(data=formatted_df, x='RegistrationMonth', y='Price')\n",
    "plt.title('Registration Month vs Price')\n",
    "plt.show()"
   ]
  },
  {
   "cell_type": "markdown",
   "metadata": {},
   "source": [
    "Once again, there's no discernable correlation between registration month and target. They all have relatively similar quartiles and medians, as well a, similar clusters of outliers. We do have a column of 'month 0', which is likely a typo or a placeholder for null values. Imputing these this categoriy with the mode would likely not change anything--except for the mode itself. Therefore, we can safely drop this column so that we do not use it as a feature in the training and testing of our models."
   ]
  },
  {
   "cell_type": "markdown",
   "metadata": {},
   "source": [
    "## Analysis on FuelType"
   ]
  },
  {
   "cell_type": "markdown",
   "metadata": {},
   "source": [
    "## Analysis on Brand"
   ]
  },
  {
   "cell_type": "markdown",
   "metadata": {},
   "source": [
    "## Analysis on NotRepaired"
   ]
  },
  {
   "cell_type": "markdown",
   "metadata": {},
   "source": [
    "## Analysis on DateCreated"
   ]
  },
  {
   "cell_type": "markdown",
   "metadata": {},
   "source": [
    "## Analysis on PostalCode"
   ]
  },
  {
   "cell_type": "markdown",
   "metadata": {},
   "source": [
    "## Analysis on LastSeen"
   ]
  },
  {
   "cell_type": "markdown",
   "metadata": {},
   "source": [
    "# Preprocessing of the Data"
   ]
  },
  {
   "cell_type": "markdown",
   "metadata": {},
   "source": [
    "Now that we have split our data, we can perform data changes such as imputation of null values for all datasets (prevents data leakage), removing duplicates rows and/or columns for the training dataset only (improves to model genearlization), removing outliers of the training data only (improves model genearlization), apply transformations (e.g. log transformation) to all datasets, remove potential features for all datasets, and potentially more."
   ]
  },
  {
   "cell_type": "markdown",
   "metadata": {},
   "source": [
    "## Helper Functions for Data Formatting"
   ]
  },
  {
   "cell_type": "markdown",
   "metadata": {},
   "source": [
    "The functions in this section will be used for data formatting, essentially keeping our code as neat as possible."
   ]
  },
  {
   "cell_type": "code",
   "execution_count": null,
   "metadata": {},
   "outputs": [],
   "source": [
    "#This function imputes null values of all the datasets with the mean of the training data--avoiding data leakage\n",
    "def impute_column_with_training_mean(X_train, X_valid, X_test, column_name):\n",
    "    #We ensure that the column exists and is numeric\n",
    "    if column_name not in X_train.columns:\n",
    "        raise ValueError(f\"Column {column_name} does not exist in the training data.\")\n",
    "    \n",
    "    #We also ensure that the column is numeric\n",
    "    if not pd.api.types.is_numeric_dtype(X_train[column_name]):\n",
    "        raise TypeError(f\"Column {column_name} is not numeric.\")\n",
    "    \n",
    "    #Now we fit the imputer to the training data\n",
    "    imputer = SimpleImputer(strategy='mean')\n",
    "    imputer.fit(X_train[[column_name]])\n",
    "\n",
    "    # Transform the column in all datasets\n",
    "    X_train_imp = pd.concat([X_train.drop(columns=[column_name]), pd.DataFrame(imputer.transform(X_train[[column_name]]), columns=[column_name], index=X_train.index)], axis=1)\n",
    "\n",
    "    X_val_imp = pd.concat([X_valid.drop(columns=[column_name]), pd.DataFrame(imputer.transform(X_valid[[column_name]]), columns=[column_name], index=X_valid.index)], axis=1)\n",
    "\n",
    "    X_test_imp = pd.concat([X_test.drop(columns=[column_name]), pd.DataFrame(imputer.transform(X_test[[column_name]]), columns=[column_name], index=X_test.index)], axis=1)\n",
    "\n",
    "    return X_train_imp, X_val_imp, X_test_imp\n",
    "\n",
    "\n",
    "#THis function allows you to impute a particular value in a column with the mean of the training data to all datasets\n",
    "def replace_value_with_training_mean(X_train, X_val, X_test, column, bad_value):\n",
    "    #Here we calculate the mean of our specific column from the training data excluding the value that we are going to replace, since it represents a placeholder\n",
    "    valid_mean = X_train.loc[X_train[column] != bad_value, column].mean()\n",
    "\n",
    "    #Here we replace the bad value with the mean in all datasets\n",
    "    X_train[column] = X_train[column].replace(bad_value, valid_mean)\n",
    "    X_val[column]   = X_val[column].replace(bad_value, valid_mean)\n",
    "    X_test[column]  = X_test[column].replace(bad_value, valid_mean)\n",
    "\n",
    "    return X_train, X_val, X_test\n"
   ]
  },
  {
   "cell_type": "markdown",
   "metadata": {},
   "source": [
    "## Checking the Years for Registration Year of Vehicle"
   ]
  },
  {
   "cell_type": "markdown",
   "metadata": {},
   "source": [
    "Let's take a look at the general information about the RegistrationYear column."
   ]
  },
  {
   "cell_type": "code",
   "execution_count": null,
   "metadata": {},
   "outputs": [],
   "source": [
    "#General information about the Power column in our X_train dataset\n",
    "print(X_train['RegistrationYear'].info())"
   ]
  },
  {
   "cell_type": "markdown",
   "metadata": {},
   "source": [
    "As a quick check, our data type is appropriate and there are no null values.\n",
    "\n",
    "Let's see all of the unique registration year values we have in our dataset—-assuming it is not too large."
   ]
  },
  {
   "cell_type": "code",
   "execution_count": null,
   "metadata": {},
   "outputs": [],
   "source": [
    "#Printing the unique registration years from earliest to latest\n",
    "print(X_train['RegistrationYear'].sort_values(ascending=False).unique())"
   ]
  },
  {
   "cell_type": "markdown",
   "metadata": {},
   "source": [
    "There are a few reasons why many of these values will serve as neither good training nor testing data. First, we have recorded time periods where automobiles did not exist, e.g., 1000 AD. Secondly, we have particular years that have not occured yet; for example, the year 9999 AD is past the current year by several millenia. Therefore, we are going to have to remove the rows that do not fit well for our model. In addition to our filtering, classic cars (for this project, cars registered by 1990) will also be removed. Classic cars are often priced differently than typical newer cars in today's time. Therefore, to achieve better pricing predictions for relatively modern cars with standard pricing methods, we will filter our classic cars."
   ]
  },
  {
   "cell_type": "code",
   "execution_count": null,
   "metadata": {},
   "outputs": [],
   "source": [
    "#First we define a mask to filter out the invalid entries --> this ensures that X_train and y_train have the same indexes\n",
    "mask = (X_train['RegistrationYear'] >= 1990) & (X_train['RegistrationYear'] <= 2019)\n",
    "\n",
    "#Now we can filter X_train and y_train using the mask\n",
    "X_train = X_train[mask].reset_index(drop=True)\n",
    "y_train = y_train[mask].reset_index(drop=True)"
   ]
  },
  {
   "cell_type": "markdown",
   "metadata": {},
   "source": [
    "Let's check to see if the changes were made."
   ]
  },
  {
   "cell_type": "code",
   "execution_count": null,
   "metadata": {},
   "outputs": [],
   "source": [
    "print(X_train['RegistrationYear'].sort_values(ascending=False).unique())"
   ]
  },
  {
   "cell_type": "markdown",
   "metadata": {},
   "source": [
    "Our filtering was successful where we have a range of registration years from 1990 to 2019. Note that this filter is applied to the training data only so that we can observe how our model handles testing data, which could have outliers within it."
   ]
  },
  {
   "cell_type": "markdown",
   "metadata": {},
   "source": [
    "## Inspecting Power Values"
   ]
  },
  {
   "cell_type": "markdown",
   "metadata": {},
   "source": [
    "Let's see the general statistics for the power feature in our data."
   ]
  },
  {
   "cell_type": "code",
   "execution_count": null,
   "metadata": {},
   "outputs": [],
   "source": [
    "print(X_train['Power'].info())"
   ]
  },
  {
   "cell_type": "code",
   "execution_count": null,
   "metadata": {},
   "outputs": [],
   "source": [
    "print(X_train['Power'].describe())"
   ]
  },
  {
   "cell_type": "markdown",
   "metadata": {},
   "source": [
    "Let's also see what the values of power are in the training data."
   ]
  },
  {
   "cell_type": "code",
   "execution_count": null,
   "metadata": {},
   "outputs": [],
   "source": [
    "print(X_train['Power'].value_counts(dropna=False).sort_values(ascending=False))"
   ]
  },
  {
   "cell_type": "markdown",
   "metadata": {},
   "source": [
    "There are values of horsepower (HP) that are not realistic values. Observing the max value of 19312 and a minimum value of 0, these are likely typos, glitches, missing entries, or something related. We also observe that we have a wide spread of values since our standard deviation of 187, which is not a sensible spread for most cars. Also, 300 HP for a car is a high value compared to most everyday cars. Moreover, in terms of sports cars, values can range from 300 - 600 on average. Let's set the maximum HP to 600 for our power feature."
   ]
  },
  {
   "cell_type": "code",
   "execution_count": null,
   "metadata": {},
   "outputs": [],
   "source": [
    "#Here's our filtering (mask) that we will apply to both X_train and y_train --> ensuring we keep indexes aligned --> useful for potential future analysis\n",
    "mask = X_train['Power'] <= 600\n",
    "\n",
    "# Apply to both X_train and y_train\n",
    "X_train = X_train[mask].reset_index(drop=True)\n",
    "y_train = y_train[mask].reset_index(drop=True)\n",
    "\n",
    "\n",
    "#Let us observe the general statistics now\n",
    "print(X_train['Power'].describe())"
   ]
  },
  {
   "cell_type": "markdown",
   "metadata": {},
   "source": [
    "We lost a fraction of our data after the removal of any row with horsepower greater than 600. Our mean dropped by 3 points roughly and our standard deviation improved considerably. However, we still have a minimum value of 0. Before we observe the distribution of the power feature, let's see the frequency of our top values to get a numerical sense of what is going on."
   ]
  },
  {
   "cell_type": "code",
   "execution_count": null,
   "metadata": {},
   "outputs": [],
   "source": [
    "print(X_train['Power'].value_counts())"
   ]
  },
  {
   "cell_type": "markdown",
   "metadata": {},
   "source": [
    "Clearly we have multiple data points whose horsepower is zero. Removing the rows with this HP would remove more data than ideal so we need to impute the data with a central tendency, likely the mean or medium. Let's take a look at the distribution to see if we should impute the column with."
   ]
  },
  {
   "cell_type": "code",
   "execution_count": null,
   "metadata": {},
   "outputs": [],
   "source": [
    "#Setting up the plot\n",
    "plt.figure(figsize=(12, 6))\n",
    "sns.histplot(X_train['Power'], bins=50, kde=True)\n",
    "plt.title('Distribution of Power (Horsepower) for Values Between 1 and 600')\n",
    "plt.xlabel('Horsepower')\n",
    "plt.ylabel('Frequency')\n",
    "plt.grid(True)\n",
    "plt.tight_layout()\n",
    "plt.show()"
   ]
  },
  {
   "cell_type": "markdown",
   "metadata": {},
   "source": [
    "There are outliers for this particular distribution, which could disrupt the positioning of the mean. To see the best choice for imputation, we will replace the 0's of our power feature with both the mean and median of our data and see which imputation has the least impact on the distribution."
   ]
  },
  {
   "cell_type": "code",
   "execution_count": null,
   "metadata": {},
   "outputs": [],
   "source": [
    "#We will use these copies to compare the statistics of the mean and median imputation\n",
    "mean_df, median_df = [X_train.copy(deep=True) for _ in range(2)]\n",
    "\n",
    "#First, let us replace all of the zeros with null values; we can do this since there are no null values within this column\n",
    "mean_df['Power'] = mean_df['Power'].replace(0, np.nan)\n",
    "median_df['Power'] = median_df['Power'].replace(0, np.nan)\n",
    "\n",
    "#Imputing null values with mean and median\n",
    "mean_df['Power'] = mean_df['Power'].fillna(mean_df['Power'].mean())\n",
    "median_df['Power'] = median_df['Power'].fillna(median_df['Power'].median())\n",
    "\n",
    "#Now let's see some of the stats for these copies\n",
    "print(mean_df['Power'].describe())\n",
    "print(median_df['Power'].describe())"
   ]
  },
  {
   "cell_type": "markdown",
   "metadata": {},
   "source": [
    "Regardless of whether the data is imputed by the mean or median, the values are roughly the same, even for the mean itself. Thus, choosing either value to use is fine. We'll inspect the distributions just to be sure."
   ]
  },
  {
   "cell_type": "code",
   "execution_count": null,
   "metadata": {},
   "outputs": [],
   "source": [
    "#Setting up the plot figure\n",
    "plt.figure(figsize=(12, 6))\n",
    "\n",
    "#Plotting the mean-imputed data\n",
    "plt.subplot(1,2,1)\n",
    "sns.histplot(mean_df['Power'], bins = 50, color='skyblue')\n",
    "plt.title('Distribution using Mean Imputation')\n",
    "plt.xlabel('Power')\n",
    "plt.ylabel('Frequency')\n",
    "\n",
    "#Plotting the median-imputted data\n",
    "plt.subplot(1,2,2)\n",
    "sns.histplot(median_df['Power'], bins=50, color='salmon')\n",
    "plt.title('Distribution using Median Imputation')\n",
    "plt.xlabel(\"Power\")\n",
    "plt.ylabel(\"Frequency\")\n",
    "plt.tight_layout()\n",
    "plt.show()"
   ]
  },
  {
   "cell_type": "markdown",
   "metadata": {},
   "source": [
    "Since the distributions are virtually the same, imputing the power column with the mean from the training data to all datasets will work well and avoid data leakage."
   ]
  },
  {
   "cell_type": "code",
   "execution_count": null,
   "metadata": {},
   "outputs": [],
   "source": [
    "#Here we impute the null values of the Power column in all datasets with the mean of the training data to avoid data leakage\n",
    "X_train, X_val, X_test = replace_value_with_training_mean(X_train, X_valid, X_test, 'Power', 0)"
   ]
  },
  {
   "cell_type": "markdown",
   "metadata": {},
   "source": [
    "Let's check the statistics of the power column just to be sure the changes were made."
   ]
  },
  {
   "cell_type": "code",
   "execution_count": null,
   "metadata": {},
   "outputs": [],
   "source": [
    "print(\"==========Imputed Power column stats:==========\\n\")\n",
    "print(\"X_train stats:\")\n",
    "print(X_train['Power'].describe())\n",
    "print(\"\")\n",
    "\n",
    "print(\"X_valid stats:\")\n",
    "print(X_valid['Power'].describe())\n",
    "print(\" \")\n",
    "\n",
    "print(\"X_test stats:\")\n",
    "print(X_test['Power'].describe())"
   ]
  },
  {
   "cell_type": "markdown",
   "metadata": {},
   "source": [
    "We see that the changes were properly executed."
   ]
  },
  {
   "cell_type": "markdown",
   "metadata": {},
   "source": [
    "## Replacing Categorical Features with Mode"
   ]
  },
  {
   "cell_type": "markdown",
   "metadata": {},
   "source": [
    "Here are the first few entries of our categorical feature that we are likely going to use with our model later."
   ]
  },
  {
   "cell_type": "code",
   "execution_count": null,
   "metadata": {},
   "outputs": [],
   "source": [
    "#A list of our categorical columns\n",
    "categorical_features = ['VehicleType', 'Gearbox', 'Model', 'FuelType', 'NotRepaired']\n",
    "\n",
    "#Here are some of the values in our categorical columns\n",
    "print(X_train[categorical_features].head(5))"
   ]
  },
  {
   "cell_type": "markdown",
   "metadata": {},
   "source": [
    "Let's see the number of null entries in these columns."
   ]
  },
  {
   "cell_type": "code",
   "execution_count": null,
   "metadata": {},
   "outputs": [],
   "source": [
    "print(X_train[categorical_features].info())"
   ]
  },
  {
   "cell_type": "markdown",
   "metadata": {},
   "source": [
    "Since we are working with categorical columns that contain thousands of null entries, we need to impute them with their corresponding modes."
   ]
  },
  {
   "cell_type": "code",
   "execution_count": null,
   "metadata": {},
   "outputs": [],
   "source": [
    "#This for loop will impute the mode for the null values in each respective feature\n",
    "for feature in categorical_features:\n",
    "    if X_train[feature].isnull().sum() > 0:\n",
    "        mode = X_train[feature].mode()[0]\n",
    "        X_train[feature] = X_train[feature].fillna(mode)\n",
    "        X_val[feature]   = X_val[feature].fillna(mode)\n",
    "        X_test[feature]  = X_test[feature].fillna(mode)"
   ]
  },
  {
   "cell_type": "markdown",
   "metadata": {},
   "source": [
    "Let's check to ensure that there we have only valid entries in our categorical columns."
   ]
  },
  {
   "cell_type": "code",
   "execution_count": null,
   "metadata": {},
   "outputs": [],
   "source": [
    "print(\"X_train categorical features info:\\n\")\n",
    "print(X_train[categorical_features].info())\n",
    "print(\"\")\n",
    "\n",
    "print(\"X_valid categorical features info:\\n\")\n",
    "print(X_valid[categorical_features].info())\n",
    "print(\"\")\n",
    "\n",
    "print(\"X_test categorical features info:\\n\")\n",
    "print(X_test[categorical_features].info())"
   ]
  },
  {
   "cell_type": "markdown",
   "metadata": {},
   "source": [
    "## Checking Mileage Values"
   ]
  },
  {
   "cell_type": "markdown",
   "metadata": {},
   "source": [
    "Let's check the first few values in our Mileage column and general information about it."
   ]
  },
  {
   "cell_type": "code",
   "execution_count": null,
   "metadata": {},
   "outputs": [],
   "source": [
    "#First 10 values of the mileage column\n",
    "print(\"First 10 values of the Mileage column:\\n\")\n",
    "print(X_train['Mileage'].head(10))\n",
    "\n",
    "print()\n",
    "print(\"=======================================================\")\n",
    "print()\n",
    "\n",
    "#General information about the Mileage column\n",
    "print(\"General information about the Mileage column:\\n\")\n",
    "print(X_train['Mileage'].info())"
   ]
  },
  {
   "cell_type": "markdown",
   "metadata": {},
   "source": [
    "We see that there are no null values in the Mileage column. Now let's check the unique values of the Mileage column.    "
   ]
  },
  {
   "cell_type": "code",
   "execution_count": null,
   "metadata": {},
   "outputs": [],
   "source": [
    "#Here we check the unique values of the Mileage column\n",
    "print(X_train['Mileage'].value_counts(ascending=False))"
   ]
  },
  {
   "cell_type": "markdown",
   "metadata": {},
   "source": [
    "Mileage is often a significant factor in the value of the car. Typically, as a car gradually increases in mileage, its overall value begins to decrease. However, since we have only few unique mileage values, it will be difficult to compute a Pearson correlation from it. However, we will still compute the correlation to see if we have a negative correlation (indicating an incrase in mileage decreases value) and plot the distribution to see a visual between mileage and car price (though the graph will likely be of little usage)."
   ]
  },
  {
   "cell_type": "code",
   "execution_count": null,
   "metadata": {},
   "outputs": [],
   "source": [
    "#Computing the linear correlation between the Mileage and Price columns\n",
    "correlation = X_train['Mileage'].corr(y_train)\n",
    "\n",
    "#Results\n",
    "print(correlation)"
   ]
  },
  {
   "cell_type": "markdown",
   "metadata": {},
   "source": [
    "We do have a negative correlation, which is expected since the increase of mileage of a car typically decreases the value of the car. Let's see a visualization of mileage vs price to see if we can discern any particular pattern whatsoever."
   ]
  },
  {
   "cell_type": "code",
   "execution_count": null,
   "metadata": {},
   "outputs": [],
   "source": [
    "#Scatterplot setup\n",
    "plt.figure(figsize=(10,6))\n",
    "sns.scatterplot(x=X_train['Mileage'], y=y_train, hue=X_train['Mileage'], palette='husl', alpha=0.01, legend=False)\n",
    "\n",
    "#Overlaying a regression line to show the trend\n",
    "sns.regplot(x=X_train['Mileage'], y=y_train, scatter=False, line_kws={'color':'black', 'linewidth': 3, 'linestyle':'dashed'})\n",
    "\n",
    "#Extra plot specifications\n",
    "plt.title(\"Mileage vs Price by Brand with Trendline\", fontsize=16, weight='bold')\n",
    "plt.xlabel('Mileage', fontsize=20)\n",
    "plt.ylabel('Price', fontsize=20)\n",
    "\n",
    "#Footnote at the bottom of the plot\n",
    "plt.figtext(0.5, -0.05, 'The trendline implies that higher mileage cars have lower car prices.', horizontalalignment='center', fontsize=12, wrap=True, fontstyle='italic', color='gray')\n",
    "\n",
    "#Results\n",
    "plt.tight_layout()\n",
    "plt.show()"
   ]
  },
  {
   "cell_type": "markdown",
   "metadata": {},
   "source": [
    "Clearly the negative slope of our trendline matches the negative sign of our pearon correlation value of -0.34. Indicating that higher mileage cars have a lower value in general. Let's see what values that this columns acquires."
   ]
  },
  {
   "cell_type": "code",
   "execution_count": null,
   "metadata": {},
   "outputs": [],
   "source": [
    "#Printing the unique values of the Mileage column\n",
    "print(\"Unique values of the Mileage column:\\n\")\n",
    "print(X_train['Mileage'].value_counts(dropna=False))"
   ]
  },
  {
   "cell_type": "markdown",
   "metadata": {},
   "source": [
    "It appears that mileage recordings are rounded off. Moreover, due to the large frequency of cars with 150000 miles, this is likely a mileage cap that Rusty Bargain implemented. Let's check to see the distribution of this column for a visualization and calculate it skewness to ensure we do not need a transformation of some kind."
   ]
  },
  {
   "cell_type": "code",
   "execution_count": null,
   "metadata": {},
   "outputs": [],
   "source": [
    "#Setting the background\n",
    "sns.set(style='whitegrid')\n",
    "\n",
    "#Establishing the figure\n",
    "plt.figure(figsize=(10,6))\n",
    "sns.countplot(x=X_train['Mileage'], hue = X_train['Mileage'], palette='deep', legend=False)\n",
    "\n",
    "#Adding labels\n",
    "plt.xticks(rotation=45, fontsize=12)\n",
    "plt.xlabel(\"Mileage\", fontsize=20)\n",
    "plt.ylabel(\"Number of Cars\", fontsize=20)\n",
    "plt.title(\"Distribution of Mileage for Rusty's Used Cars\", fontsize=16, weight='bold')\n",
    "plt.tight_layout()\n",
    "plt.show()"
   ]
  },
  {
   "cell_type": "code",
   "execution_count": null,
   "metadata": {},
   "outputs": [],
   "source": [
    "#Skewness of distribution\n",
    "print(X_train['Mileage'].skew())"
   ]
  },
  {
   "cell_type": "markdown",
   "metadata": {},
   "source": [
    "The skewness is calculated as -1.75, which is demonstrated by our graph. There's nothing to impute so our feature will remain the same unless we scale it later, which could be important for linear regression."
   ]
  },
  {
   "cell_type": "markdown",
   "metadata": {},
   "source": [
    "## Checking Price (Target) Values"
   ]
  },
  {
   "cell_type": "markdown",
   "metadata": {},
   "source": [
    "Let's check the first few entries of our target column (Price --> tree models only)."
   ]
  },
  {
   "cell_type": "code",
   "execution_count": null,
   "metadata": {},
   "outputs": [],
   "source": [
    "#First few entires of the price column\n",
    "print(y_train.head(10))"
   ]
  },
  {
   "cell_type": "markdown",
   "metadata": {},
   "source": [
    "Let's see the general statistics for this column."
   ]
  },
  {
   "cell_type": "code",
   "execution_count": null,
   "metadata": {},
   "outputs": [],
   "source": [
    "#General statistics for our target\n",
    "print(y_train.describe())"
   ]
  },
  {
   "cell_type": "markdown",
   "metadata": {},
   "source": [
    "We see that the minimum price of cars is 0, which is likely a typo or some kind of null entry. It would be ideal to filter the price of vehicles to something more realistic, 100 for example. We will check the sum of relative frequencies of prices from 0 - 99 to ensure we do not lose too much data. In addition, the price column has a mean of 4408 and a median of 2700, indicating that we have heavy outliers that are pulling the mean to be bigger than the median. This suggests that our distirbution is skewed right. The spread of this data is also considerable because our standard deviation is 4504. "
   ]
  },
  {
   "cell_type": "markdown",
   "metadata": {},
   "source": [
    "Let's check the sum of relative frequences of prices ranging from 0 - 99 so that we may know if it is safe to remove rows in our dataframe that contain any of these prices."
   ]
  },
  {
   "cell_type": "code",
   "execution_count": null,
   "metadata": {},
   "outputs": [],
   "source": [
    "#This is the number of entries in our training target (y_train)\n",
    "price_entries = len(y_train)\n",
    "\n",
    "#We filter the y_train to only include prices ranging from 0 - 99\n",
    "filtered_prices_series= y_train[(y_train >= 0) & (y_train < 100)]\n",
    "\n",
    "#This is the number of rows that y_train contains. This is used to calculate the relative frequency.\n",
    "number_rows_filtered_prices = filtered_prices_series.shape[0]\n",
    "\n",
    "#Relative frequency calculation\n",
    "relative_frequency = number_rows_filtered_prices / price_entries\n",
    "\n",
    "#Result\n",
    "print(relative_frequency)"
   ]
  },
  {
   "cell_type": "markdown",
   "metadata": {},
   "source": [
    "The prices ranging from 0 - 99 only compromise of roughly 4% of the data. Therefore, we are going to filter out these prices values so that we get an accurate depiction of our distribution when we graph it."
   ]
  },
  {
   "cell_type": "code",
   "execution_count": null,
   "metadata": {},
   "outputs": [],
   "source": [
    "#Since we are going to filter y_train, the indexes will change, so we also need to account for this in X_train. Thus we create a mask.\n",
    "mask = y_train >= 100\n",
    "\n",
    "#Now we filter both X_train and y_train using the mask\n",
    "X_train = X_train[mask].reset_index(drop=True)\n",
    "y_train = y_train[mask].reset_index(drop=True)"
   ]
  },
  {
   "cell_type": "markdown",
   "metadata": {},
   "source": [
    "Let's ensure that changes took place and then we can visualize our distribution."
   ]
  },
  {
   "cell_type": "code",
   "execution_count": null,
   "metadata": {},
   "outputs": [],
   "source": [
    "print(y_train.describe())"
   ]
  },
  {
   "cell_type": "markdown",
   "metadata": {},
   "source": [
    "Let's take a look at the distribution of values in this target and calculate skewness."
   ]
  },
  {
   "cell_type": "code",
   "execution_count": null,
   "metadata": {},
   "outputs": [],
   "source": [
    "plt.figure(figsize=(10,6))\n",
    "sns.histplot(data=y_train, bins=50, kde=False, color='skyblue')\n",
    "\n",
    "plt.title('Histogram of Car Prices')\n",
    "plt.xlabel('Price')\n",
    "plt.ylabel('Frequency')\n",
    "plt.grid(True)\n",
    "plt.tight_layout()\n",
    "plt.show()"
   ]
  },
  {
   "cell_type": "code",
   "execution_count": null,
   "metadata": {},
   "outputs": [],
   "source": [
    "print(y_train.skew())"
   ]
  },
  {
   "cell_type": "markdown",
   "metadata": {},
   "source": [
    "Since our distribution has a skewness of 1.41 and our graph is visually skewed to the right, a log transformation will be implemented since we are using linear regression in our models later on. This helps with the normality assumption with linear regression."
   ]
  },
  {
   "cell_type": "code",
   "execution_count": null,
   "metadata": {},
   "outputs": [],
   "source": [
    "zero_count_valid = (y_valid == 0).sum()\n",
    "print(f\"Number of zero entries in y_valid: {zero_count_valid}\")\n",
    "\n",
    "zero_count_test = (y_test == 0).sum()\n",
    "print(f\"Number of zero entries in y_test: {zero_count_test}\")\n",
    "\n",
    "print(y_valid.info())\n",
    "print(y_test.info())"
   ]
  },
  {
   "cell_type": "code",
   "execution_count": null,
   "metadata": {},
   "outputs": [],
   "source": [
    "#We have to disccard zeros for y_valid and y_test so we are using the log transformation\n",
    "\n",
    "#Creating a mask to filter out zeros in y_valid and y_test\n",
    "mask_valid = y_valid > 0\n",
    "mask_test = y_test > 0\n",
    "\n",
    "#Now we filter both X and y sets accordingly\n",
    "X_valid = X_valid[mask_valid].reset_index(drop=True)\n",
    "y_valid = y_valid[mask_valid].reset_index(drop=True)\n",
    "\n",
    "X_test = X_test[mask_test].reset_index(drop=True)\n",
    "y_test = y_test[mask_test].reset_index(drop=True)   \n",
    "\n",
    "#Log transformation of our prices --> we need to do this for all target series'\n",
    "y_train_log = np.log(y_train)\n",
    "y_valid_log = np.log(y_valid)\n",
    "y_test_log = np.log(y_test)"
   ]
  },
  {
   "cell_type": "markdown",
   "metadata": {},
   "source": [
    "Now let's compare the distibutions visually and calculate the skewness of the log distribution."
   ]
  },
  {
   "cell_type": "code",
   "execution_count": null,
   "metadata": {},
   "outputs": [],
   "source": [
    "plt.figure(figsize=(14, 5))\n",
    "\n",
    "# Original Price Distribution\n",
    "plt.subplot(1, 2, 1)\n",
    "sns.histplot(data=y_train_log, bins=50, kde=True, color='steelblue')\n",
    "plt.title('Original Price Distribution')\n",
    "plt.xlabel('Price')\n",
    "plt.ylabel('Frequency')\n",
    "\n",
    "# Log-Transformed Price Distribution\n",
    "plt.subplot(1, 2, 2)\n",
    "sns.histplot(data=y_train, bins=50, kde=True, color='darkorange')\n",
    "plt.title('Log-Transformed Price Distribution')\n",
    "plt.xlabel('Log(Price)')\n",
    "plt.ylabel('Frequency')\n",
    "\n",
    "plt.tight_layout()\n",
    "plt.show()\n"
   ]
  },
  {
   "cell_type": "code",
   "execution_count": null,
   "metadata": {},
   "outputs": [],
   "source": [
    "#Skewness before log transformation\n",
    "print(\"Skewness of original prices:\", y_train.skew())\n",
    "print(\"\")\n",
    "\n",
    "#Skewness of log prices\n",
    "print(\"Skewness of log prices:\", y_train_log.skew())"
   ]
  },
  {
   "cell_type": "markdown",
   "metadata": {},
   "source": [
    "We now see that our skewness has decreased from 1.41 to -0.32, a good improvement for us when we have to train a linear regression model later. Note that LogPrice will not be the target for our tree model."
   ]
  },
  {
   "cell_type": "markdown",
   "metadata": {},
   "source": [
    "## Checking Duplicate Rows in Entire Dataframe"
   ]
  },
  {
   "cell_type": "markdown",
   "metadata": {},
   "source": [
    "Up to this point, we have inspected each column individually for null values / invalid data entries, which were handled using removal of data or imputation. Now we need to check to see if there are any duplicated rows in entire dataframe because there should not be any. If there are, we will remove them."
   ]
  },
  {
   "cell_type": "code",
   "execution_count": null,
   "metadata": {},
   "outputs": [],
   "source": [
    "#Here are the number of duplicated rows we have in our dataframe. This will be used for boolean indexing next\n",
    "duplicated_rows = X_train.duplicated().sum()\n",
    "\n",
    "#Here we see the first few duplicated rows, if there are any\n",
    "X_train[X_train.duplicated()].head(15) if duplicated_rows > 0 else None"
   ]
  },
  {
   "cell_type": "markdown",
   "metadata": {},
   "source": [
    "Clearly we have several duplicates that need to be dropped. Of course the first instances will be kept, but any copies will be deleted."
   ]
  },
  {
   "cell_type": "code",
   "execution_count": null,
   "metadata": {},
   "outputs": [],
   "source": [
    "#Since we are going to drop duplicates, we have to modify both X_train and y_train. Thus, we need to create a mask.\n",
    "mask = ~X_train.duplicated(keep='first')\n",
    "\n",
    "#Now we can filter both X_train and y_train using the mask\n",
    "X_train = X_train[mask].reset_index(drop=True)\n",
    "y_train = y_train[mask].reset_index(drop=True)\n",
    "y_train_log = y_train_log[mask].reset_index(drop=True)"
   ]
  },
  {
   "cell_type": "markdown",
   "metadata": {},
   "source": [
    "Let's ensure that the change was made."
   ]
  },
  {
   "cell_type": "code",
   "execution_count": null,
   "metadata": {},
   "outputs": [],
   "source": [
    "#The sum of duplicates in X_train and y_train\n",
    "print(\"Number of duplicates in X_train after dropping duplicates:\")\n",
    "print(X_train.duplicated().sum())\n"
   ]
  },
  {
   "cell_type": "markdown",
   "metadata": {},
   "source": [
    "## Checking Duplicate Values in Each Column"
   ]
  },
  {
   "cell_type": "markdown",
   "metadata": {},
   "source": [
    "For this section, we are going to check the number of duplicates and relative frequency of duplicates for each column. Due to what the data represents, it is reasonable that most of the columns have a large number of duplicates. Though we are not going to format anything regarding duplicate values for these columns, this information could be helpful in our EDA."
   ]
  },
  {
   "cell_type": "code",
   "execution_count": null,
   "metadata": {},
   "outputs": [],
   "source": [
    "#Here is the length of the dataframe --> used to calculate relative frequency in the denominator\n",
    "X_train_length = len(X_train)\n",
    "\n",
    "#Here is a dictionary that we are going to store the name of the columns with their total duplicates and relative frequency of duplicates\n",
    "duplicates_dict = {}\n",
    "\n",
    "for column in X_train.columns:\n",
    "    #This is the number of duplicates we have in the respective column\n",
    "    number_of_duplicate_values = X_train[column].duplicated().sum()\n",
    "\n",
    "    #This is relative frequency of duplicates\n",
    "    relative_frequency = (number_of_duplicate_values / X_train_length) * 100\n",
    "\n",
    "    #This is the number of unique values that each columns has\n",
    "    number_unique_values = X_train[column].nunique()\n",
    "\n",
    "    #Store the results in our dictionary\n",
    "    duplicates_dict[column] = {'Number of Duplicates': int(number_of_duplicate_values), 'Relative Frequency': float(round(relative_frequency, 2)), 'Unique Values': int(number_unique_values)}\n",
    "\n",
    "#This is our dataframe that we can display the dictionary contents nicely\n",
    "duplicates_df = pd.DataFrame.from_dict(duplicates_dict, orient='index')\n",
    "\n",
    "#Here are the results\n",
    "duplicates_df"
   ]
  },
  {
   "cell_type": "markdown",
   "metadata": {},
   "source": [
    "# Creating Linear and Tree Based Datasets"
   ]
  },
  {
   "cell_type": "markdown",
   "metadata": {},
   "source": [
    "Now that we have most of the editing completed in our datasets (except for scaling --> performed during the validation of our models) we need to split up our datasets into sets that are going to be explicitly used for linear models and tree-based models. This is particularly helpful with the encoding of features demonstrated in the next section.\n",
    "\n",
    "Recall that these are the datasets that we have created thus far:\n",
    "\n",
    " - X_train\n",
    " - X_valid\n",
    " - X_test\n",
    "\n",
    " - y_train\n",
    " - y_valid\n",
    " - y_test\n",
    " \n",
    " - y_train_log\n",
    " - y_valid_log\n",
    " - y_test_log"
   ]
  },
  {
   "cell_type": "code",
   "execution_count": null,
   "metadata": {},
   "outputs": [],
   "source": [
    "\"\"\"These are the datasets used strictly for our linear models\"\"\"\n",
    "\n",
    "#Features for linear models\n",
    "X_train_linear = X_train.copy(deep=True)\n",
    "X_valid_linear = X_valid.copy(deep=True)\n",
    "X_test_linear = X_test.copy(deep=True)\n",
    "\n",
    "#Targets for linear models\n",
    "y_train_linear = y_train.copy(deep=True)\n",
    "y_valid_linear = y_valid.copy(deep=True)\n",
    "y_test_linear = y_test.copy(deep=True)\n",
    "\n",
    "#Log transformed targets for linear models\n",
    "y_train_log_linear = y_train_log.copy(deep=True)\n",
    "y_valid_log_linear = y_valid_log.copy(deep=True)\n",
    "y_test_log_linear = y_test_log.copy(deep=True)\n",
    "\n",
    "\n",
    "\"\"\"These are the datasets used strictly for our tree-based models\"\"\"\n",
    "#Features for tree-based models\n",
    "X_train_tree = X_train.copy(deep=True)\n",
    "X_valid_tree = X_valid.copy(deep=True)\n",
    "X_test_tree = X_test.copy(deep=True)\n",
    "\n",
    "#Targets for tree-based models\n",
    "y_train_tree = y_train.copy(deep=True)\n",
    "y_valid_tree = y_valid.copy(deep=True)\n",
    "y_test_tree = y_test.copy(deep=True)"
   ]
  },
  {
   "cell_type": "markdown",
   "metadata": {},
   "source": [
    "Since tree models do not depend on assumptions like linearity, constant variance, or normal residuals, we will use the original target values."
   ]
  },
  {
   "cell_type": "markdown",
   "metadata": {},
   "source": [
    "# Encoding Categorical Columns"
   ]
  },
  {
   "cell_type": "markdown",
   "metadata": {},
   "source": [
    "When we encode our categorical columns, we will need multiple dataframes that will be formatted depending on the model that we are going to train / test. For linear models, our dataframe will include one-hot, binary, and target / frequency encodings. For tree-based models, our dataframe will have binary and target/frequency encondings."
   ]
  },
  {
   "cell_type": "markdown",
   "metadata": {},
   "source": [
    "## Encoding DateCrawled, DateCreated, and LastSeen Columns"
   ]
  },
  {
   "cell_type": "markdown",
   "metadata": {},
   "source": [
    "We are going to encode all of the datetine type columns by extracting the year for each columns. It is a broader measurement so it will likely be more useful for predictions."
   ]
  },
  {
   "cell_type": "code",
   "execution_count": null,
   "metadata": {},
   "outputs": [],
   "source": [
    "#Here are the columns that we are going to extract the year from\n",
    "date_columns = ['DateCrawled', 'DateCreated', 'LastSeen']\n",
    "\n",
    "#This is a list of the dataframes that we are going to edit\n",
    "year_extracted_dataframes = [X_train_linear, X_valid_linear, X_test_linear, X_train_tree, X_valid_tree, X_test_tree]\n",
    "\n",
    "#This for loop will extract the year from the date columns and drop the original date columns\n",
    "for dataframe in year_extracted_dataframes:\n",
    "    for col in date_columns:\n",
    "        dataframe[f'{col}_Year'] = dataframe[col].dt.year\n",
    "        dataframe.drop(columns=[col], inplace=True)"
   ]
  },
  {
   "cell_type": "markdown",
   "metadata": {},
   "source": [
    "Let's take a look at the results to see if the changes were made to the dataframes."
   ]
  },
  {
   "cell_type": "code",
   "execution_count": null,
   "metadata": {},
   "outputs": [],
   "source": [
    "#Results of the year extraction of the year_extracted_dataframes\n",
    "for dataframe in year_extracted_dataframes:\n",
    "    display(dataframe.head(3))"
   ]
  },
  {
   "cell_type": "markdown",
   "metadata": {},
   "source": [
    "We see that the implementation of the new columns containing extracted years was successful."
   ]
  },
  {
   "cell_type": "markdown",
   "metadata": {},
   "source": [
    "## Encoding VehicleType and FuelType Columns"
   ]
  },
  {
   "cell_type": "markdown",
   "metadata": {},
   "source": [
    "Let's check to see the numnber of unique values that VehicleType and FuelType have."
   ]
  },
  {
   "cell_type": "code",
   "execution_count": null,
   "metadata": {},
   "outputs": [],
   "source": [
    "#Unique values of VehicleType and FuelType\n",
    "print(\"Unique values of VehicleType:\\n\")\n",
    "print(X_train['VehicleType'].value_counts(dropna=False))\n",
    "print(\"\")\n",
    "print(\"Unique values of FuelType:\\n\")\n",
    "print(X_train['FuelType'].value_counts(dropna=False))\n"
   ]
  },
  {
   "cell_type": "markdown",
   "metadata": {},
   "source": [
    "Since VehicleType has 8 unique values and FuelType has 7 unique values were neither have any ordering, one-hot encoding will be used for these column."
   ]
  },
  {
   "cell_type": "code",
   "execution_count": null,
   "metadata": {},
   "outputs": [],
   "source": [
    "#These are the columns that we are going to one-hot encode for our linear dataframes\n",
    "one_hot_encode_columns = ['VehicleType', 'FuelType']   \n",
    "\n",
    "#These are the columns that we are going to one-hot encode for our linear dataframes\n",
    "ohe_columns = ['VehicleType', 'FuelType']\n",
    "\n",
    "#These are the dataframes that we are going to one-hot encode\n",
    "X_train_linear = pd.get_dummies(X_train_linear, columns=ohe_columns, drop_first=True, dtype=int)\n",
    "X_valid_linear = pd.get_dummies(X_valid_linear, columns=ohe_columns, drop_first=True, dtype=int)\n",
    "X_test_linear  = pd.get_dummies(X_test_linear,  columns=ohe_columns, drop_first=True, dtype=int)\n",
    "\n",
    "#Just in case our validation or testing datasets are missing any columns that were in the training dataset, we will add those columns and fill them with zeros\n",
    "X_valid_linear = X_valid_linear.reindex(columns=X_train_linear.columns, fill_value=0)\n",
    "X_test_linear  = X_test_linear.reindex(columns=X_train_linear.columns, fill_value=0)\n"
   ]
  },
  {
   "cell_type": "code",
   "execution_count": null,
   "metadata": {},
   "outputs": [],
   "source": [
    "#These are the columns that we are going to label encode\n",
    "label_encode_columns = ['VehicleType', 'FuelType']\n",
    "\n",
    "#Now we apply the label encoding to our tree-based datasets\n",
    "for col in label_encode_columns:\n",
    "    #initialize the label encoder\n",
    "    le = LabelEncoder()\n",
    "    #fitting the label encoder to the training data\n",
    "    le.fit(X_train_tree[col])\n",
    "\n",
    "    #transforming all datasets\n",
    "    X_train_tree[col] = le.transform(X_train_tree[col])\n",
    "    X_valid_tree[col] = le.transform(X_valid_tree[col])\n",
    "    X_test_tree[col]  = le.transform(X_test_tree[col])"
   ]
  },
  {
   "cell_type": "markdown",
   "metadata": {},
   "source": [
    "Even though we used Label Encoding for our tree-based dataframes, we may use target encoding with cross-validation to improve performance later.\n",
    "\n",
    "Now let's check to make sure our changes were made."
   ]
  },
  {
   "cell_type": "code",
   "execution_count": null,
   "metadata": {},
   "outputs": [],
   "source": [
    "#This will make it easier to display the results by having both the names of the dataframes and the dataframes themselves\n",
    "encoded_dataframes = {\n",
    "    'X_train_linear': X_train_linear,\n",
    "    'X_valid_linear': X_valid_linear,\n",
    "    'X_test_linear': X_test_linear,\n",
    "    'X_train_tree': X_train_tree,\n",
    "    'X_valid_tree': X_valid_tree,\n",
    "    'X_test_tree': X_test_tree\n",
    "}\n",
    "\n",
    "# Results\n",
    "for name, dataframe in encoded_dataframes.items():\n",
    "    print(f'\\n{name}:')\n",
    "    display(dataframe.head(3))\n"
   ]
  },
  {
   "cell_type": "markdown",
   "metadata": {},
   "source": [
    "We see that the changes were successful."
   ]
  },
  {
   "cell_type": "markdown",
   "metadata": {},
   "source": [
    "## Encoding Gearbox Column"
   ]
  },
  {
   "cell_type": "markdown",
   "metadata": {},
   "source": [
    "Since binary encoding is okay for both linear and tree based models, we are going to use binary encoding for the GearBox column and make the same changes to all dataframes."
   ]
  },
  {
   "cell_type": "code",
   "execution_count": null,
   "metadata": {},
   "outputs": [],
   "source": [
    "# Define the binary mappings\n",
    "binary_mappings = {\n",
    "    'Gearbox': {'manual': 0, 'auto': 1},\n",
    "    'NotRepaired': {'no': 0, 'yes': 1}\n",
    "}\n",
    "\n",
    "# List of all current datasets\n",
    "all_dfs = [\n",
    "    X_train_linear, X_valid_linear, X_test_linear,\n",
    "    X_train_tree, X_valid_tree, X_test_tree\n",
    "]\n",
    "\n",
    "# Apply binary encoding\n",
    "for df in all_dfs:\n",
    "    for col, mapping in binary_mappings.items():\n",
    "        df[col] = df[col].map(mapping)\n"
   ]
  },
  {
   "cell_type": "code",
   "execution_count": null,
   "metadata": {},
   "outputs": [],
   "source": [
    "#This will make it easier to display the results by having both the names of the dataframes and the dataframes themselves\n",
    "updated_dataframes = {\n",
    "    'X_train_linear': X_train_linear,\n",
    "    'X_valid_linear': X_valid_linear,\n",
    "    'X_test_linear': X_test_linear,\n",
    "    'X_train_tree': X_train_tree,\n",
    "    'X_valid_tree': X_valid_tree,\n",
    "    'X_test_tree': X_test_tree\n",
    "}\n",
    "\n",
    "# Results\n",
    "for name, dataframe in updated_dataframes.items():\n",
    "    print(f'\\n{name}:')\n",
    "    display(dataframe['Gearbox'].head(5))"
   ]
  },
  {
   "cell_type": "markdown",
   "metadata": {},
   "source": [
    "We see that the binary encoding of the Gearbox columns was successful."
   ]
  },
  {
   "cell_type": "markdown",
   "metadata": {},
   "source": [
    "## Encoding Model Column"
   ]
  },
  {
   "cell_type": "markdown",
   "metadata": {},
   "source": [
    "For the model column, we are going to impute the Model column with their corresponding average car prices for the linear_df dataframe. This approach is reasonable as the cardinality is over 200 and possesses no inherent order. However, for the tree models, using label encoding is appropriate as the tree models are not sensitive to the labeling's inherent order. This also keep our cardinality within the column the same, which is good for memory / speed purposes."
   ]
  },
  {
   "cell_type": "code",
   "execution_count": null,
   "metadata": {},
   "outputs": [],
   "source": [
    "# Ensure indices match\n",
    "X_train_linear = X_train_linear.reset_index(drop=True)\n",
    "y_train_log = y_train_log.reset_index(drop=True)\n",
    "\n",
    "# Target encoder using K-fold strategy\n",
    "target_encoder = ce.TargetEncoder(cols=['Model'], smoothing=5)\n",
    "\n",
    "# Fit ONLY on training data (X_train_linear and y_train_log)\n",
    "target_encoder.fit(X_train_linear, y_train_log_linear)\n",
    "\n",
    "# Transform all splits\n",
    "X_train_linear['Average_Model_Price'] = target_encoder.transform(X_train_linear)['Model']\n",
    "X_valid_linear['Average_Model_Price'] = target_encoder.transform(X_valid_linear)['Model']\n",
    "X_test_linear['Average_Model_Price']  = target_encoder.transform(X_test_linear)['Model']\n",
    "\n",
    "# Optionally drop original column\n",
    "X_train_linear.drop(columns=['Model'], inplace=True)\n",
    "X_valid_linear.drop(columns=['Model'], inplace=True)\n",
    "X_test_linear.drop(columns=['Model'], inplace=True)\n"
   ]
  },
  {
   "cell_type": "markdown",
   "metadata": {},
   "source": [
    "## Encoding Brand Column"
   ]
  },
  {
   "cell_type": "markdown",
   "metadata": {},
   "source": [
    "For linear_df, we are going to use one-hot encoding as the the number of brands is moderate. For tree_df, we are going to use label encoding as it keeps the cardinality the same and it allows the model to treat each number as a seperate brand."
   ]
  },
  {
   "cell_type": "code",
   "execution_count": null,
   "metadata": {},
   "outputs": [],
   "source": [
    "print(X_train_linear['Brand'].nunique())"
   ]
  },
  {
   "cell_type": "code",
   "execution_count": null,
   "metadata": {},
   "outputs": [],
   "source": [
    "#Here we are using one hot encoding for the linear regression--> will increase cardinality by 39 columns, but better for linear models\n",
    "#We also concatentate the encoded columns because we need the brand columns for later ANOVA tests.\n",
    "X_train_linear = pd.concat([X_train_linear, pd.get_dummies(X_train_linear['Brand'], prefix='VehicleType', drop_first=True, dtype=int)], axis=1)\n",
    "\n",
    "#Here we are using label encoding for tree models --> low dimensionality and safe for tree models\n",
    "label_encoder = LabelEncoder() \n",
    "X_train_tree['Brand'] = label_encoder.fit_transform(X_train_tree['Brand'])\n",
    "\n",
    "#Results\n",
    "print(X_train_linear.head(5))\n",
    "print(\"\")\n",
    "print(X_train_tree.head(5))\n"
   ]
  },
  {
   "cell_type": "markdown",
   "metadata": {},
   "source": [
    "## Encoding NotRepaired Column"
   ]
  },
  {
   "cell_type": "markdown",
   "metadata": {},
   "source": [
    "Since the NotRepaired column only has yes / no values, binary encoding will work for both dataframes"
   ]
  },
  {
   "cell_type": "code",
   "execution_count": null,
   "metadata": {},
   "outputs": [],
   "source": [
    "#Here we do binary encoding for the NotRepaired column in the linear_df dataframe\n",
    "X_train_linear['NotRepaired'] = X_train_linear['NotRepaired'].map({'yes': 1, 'no': 0})\n",
    "\n",
    "#Here we do binary encoding for the NotRepaired column in the tree_df dataframe\n",
    "X_train_tree['NotRepaired'] = X_train_tree['NotRepaired'].map({'yes': 1, 'no':0})\n",
    "\n",
    "#Results\n",
    "print(X_train_linear.shape)\n",
    "print(\"\")\n",
    "print(X_train_tree.shape)"
   ]
  },
  {
   "cell_type": "markdown",
   "metadata": {},
   "source": [
    "## Checking Registration Month Feature"
   ]
  },
  {
   "cell_type": "markdown",
   "metadata": {},
   "source": [
    "Let's check the first few entire of our registration month column."
   ]
  },
  {
   "cell_type": "code",
   "execution_count": null,
   "metadata": {},
   "outputs": [],
   "source": [
    "print(formatted_df['RegistrationMonth'].head(10))"
   ]
  },
  {
   "cell_type": "markdown",
   "metadata": {},
   "source": [
    "Though registration year could certainly affect the pricing of a car, the month may not have as great of an impact. Let's check to see the correlation between the month feature and the pricing of a car. If the correlation is low, we will drop this column and not use it as a feature."
   ]
  },
  {
   "cell_type": "code",
   "execution_count": null,
   "metadata": {},
   "outputs": [],
   "source": [
    "#Since the many missing entries '0', we need to replace those with null values and drop them to find the pearson correlation\n",
    "\n",
    "#Make a copy of our dataframe for testing\n",
    "correlation_test_df = formatted_df.copy(deep = True)\n",
    "\n",
    "#Replacing the 0's with null values\n",
    "correlation_test_df['RegistrationMonth'] = correlation_test_df['RegistrationMonth'].astype('Int64').replace(0, pd.NA)\n",
    "\n",
    "#Calculating the correlation between registration month and vehicle pricing; we drop any row that contains a null registration month for more accurate results\n",
    "correlation = correlation_test_df[['RegistrationMonth', 'Price']].dropna().corr().loc['RegistrationMonth', 'Price']\n",
    "\n",
    "#Result\n",
    "correlation"
   ]
  },
  {
   "cell_type": "markdown",
   "metadata": {},
   "source": [
    "We see that there is a weak positive correlation between registration month of a car and it's value. Let's take a look at the distribution."
   ]
  },
  {
   "cell_type": "code",
   "execution_count": null,
   "metadata": {},
   "outputs": [],
   "source": [
    "#Scatterplot to see what visual correlation is between registration month and price\n",
    "sns.scatterplot(data=formatted_df, x = 'RegistrationMonth', y = 'Price')\n",
    "plt.title('Registration Month vs Price')\n",
    "plt.show()"
   ]
  },
  {
   "cell_type": "markdown",
   "metadata": {},
   "source": [
    "Clearly, there is not a discernable pattern here. This is likely due to the fact that this is a categorical column and there are many values per category. Let's visualize the distribution using a boxplot for each category. This may help to see a particular pattern."
   ]
  },
  {
   "cell_type": "code",
   "execution_count": null,
   "metadata": {},
   "outputs": [],
   "source": [
    "sns.boxplot(data=formatted_df, x='RegistrationMonth', y='Price')\n",
    "plt.title('Registration Month vs Price')\n",
    "plt.show()"
   ]
  },
  {
   "cell_type": "markdown",
   "metadata": {},
   "source": [
    "Once again, there's no discernable correlation between registration month and target. They all have relatively similar quartiles and medians, as well a, similar clusters of outliers. We do have a column of 'month 0', which is likely a typo or a placeholder for null values. Imputing these this categoriy with the mode would likely not change anything--except for the mode itself. Therefore, we can safely drop this column so that we do not use it as a feature in the training and testing of our models."
   ]
  },
  {
   "cell_type": "markdown",
   "metadata": {},
   "source": [
    "# Post EDA"
   ]
  },
  {
   "cell_type": "markdown",
   "metadata": {},
   "source": [
    "## Helper Functions for Data Analysis"
   ]
  },
  {
   "cell_type": "markdown",
   "metadata": {},
   "source": [
    "## Analysis of Model"
   ]
  },
  {
   "cell_type": "code",
   "execution_count": null,
   "metadata": {},
   "outputs": [],
   "source": [
    "# Example: Using your training data\n",
    "df = X_train.copy()\n",
    "df['Price'] = y_train  # attach target if it's separate\n",
    "\n",
    "# 1. Check ANOVA assumptions ------------------------\n",
    "\n",
    "# Normality of residuals for each group (Shapiro-Wilk test on a few models)\n",
    "normality_results = {}\n",
    "for model in df['Model'].unique()[:5]:  # check first 5 models as a sample\n",
    "    model_prices = df.loc[df['Model'] == model, 'Price']\n",
    "    if len(model_prices) >= 3:  # Shapiro requires >=3 samples\n",
    "        stat, p = stats.shapiro(model_prices)\n",
    "        normality_results[model] = p\n",
    "\n",
    "# Homogeneity of variances (Levene's test)\n",
    "model_groups = [group['Price'].values for name, group in df.groupby('Model')]\n",
    "levene_stat, levene_p = stats.levene(*model_groups)\n",
    "\n",
    "print(\"Sample Normality p-values (first 5 models):\", normality_results)\n",
    "print(\"Levene's Test p-value (equal variances assumption):\", levene_p)\n",
    "\n",
    "# 2. Run one-way ANOVA ------------------------------\n",
    "anova_stat, anova_p = stats.f_oneway(*model_groups)\n",
    "print(\"\\nANOVA p-value:\", anova_p)\n",
    "\n",
    "if anova_p < 0.05:\n",
    "    print(\"Significant differences exist between at least two models.\")\n",
    "else:\n",
    "    print(\"No significant differences found.\")\n",
    "\n",
    "# 3. Post-hoc test (Tukey HSD) if significant --------\n",
    "if anova_p < 0.05:\n",
    "    tukey = pairwise_tukeyhsd(endog=df['Price'],\n",
    "                              groups=df['Model'],\n",
    "                              alpha=0.05)\n",
    "    print(\"\\nTukey HSD Results:\")\n",
    "    print(tukey)\n"
   ]
  },
  {
   "cell_type": "markdown",
   "metadata": {},
   "source": [
    "## Analysis on DateCrawled"
   ]
  },
  {
   "cell_type": "markdown",
   "metadata": {},
   "source": [
    "## Analysis on Price"
   ]
  },
  {
   "cell_type": "markdown",
   "metadata": {},
   "source": [
    "## Analysis on VehicleType"
   ]
  },
  {
   "cell_type": "markdown",
   "metadata": {},
   "source": [
    "## Analysis on Registration Year"
   ]
  },
  {
   "cell_type": "markdown",
   "metadata": {},
   "source": [
    "## Analysis on Gearbox"
   ]
  },
  {
   "cell_type": "markdown",
   "metadata": {},
   "source": [
    "## Analysis on Power"
   ]
  },
  {
   "cell_type": "markdown",
   "metadata": {},
   "source": [
    "## Analysis on Model"
   ]
  },
  {
   "cell_type": "markdown",
   "metadata": {},
   "source": [
    "## Analysis on Mileage"
   ]
  },
  {
   "cell_type": "markdown",
   "metadata": {},
   "source": [
    "## Analysis on Registration Month"
   ]
  },
  {
   "cell_type": "markdown",
   "metadata": {},
   "source": [
    "## Analysis on FuelType"
   ]
  },
  {
   "cell_type": "markdown",
   "metadata": {},
   "source": [
    "## Analysis on Brand"
   ]
  },
  {
   "cell_type": "markdown",
   "metadata": {},
   "source": [
    "## Analysis on NotRepaired"
   ]
  },
  {
   "cell_type": "markdown",
   "metadata": {},
   "source": [
    "## Analysis on DateCreated"
   ]
  },
  {
   "cell_type": "markdown",
   "metadata": {},
   "source": [
    "## Analysis on PostalCode"
   ]
  },
  {
   "cell_type": "markdown",
   "metadata": {},
   "source": [
    "## Analysis on LastSeen"
   ]
  },
  {
   "cell_type": "markdown",
   "metadata": {},
   "source": [
    "# Model training"
   ]
  },
  {
   "cell_type": "markdown",
   "metadata": {},
   "source": [
    "## Dropping Columns that Will Not be Used as Features"
   ]
  },
  {
   "cell_type": "markdown",
   "metadata": {},
   "source": [
    "As mentioned in our \"checklist\" of things to do to improve our data, we do not need particular columns when training our model. Those columns are the 'PostalCode' and 'Number of Pictures' column. These do not pertain to the value of a car; therefore, we will not need them in the training of our model, which is to predict prices."
   ]
  },
  {
   "cell_type": "markdown",
   "metadata": {},
   "source": [
    "# Model analysis"
   ]
  },
  {
   "cell_type": "markdown",
   "metadata": {},
   "source": [
    "# Checklist"
   ]
  },
  {
   "cell_type": "markdown",
   "metadata": {},
   "source": [
    "Type 'x' to check. Then press Shift+Enter."
   ]
  },
  {
   "cell_type": "markdown",
   "metadata": {},
   "source": [
    "- [x]  Jupyter Notebook is open\n",
    "- [ ]  Code is error free\n",
    "- [ ]  The cells with the code have been arranged in order of execution\n",
    "- [ ]  The data has been downloaded and prepared\n",
    "- [ ]  The models have been trained\n",
    "- [ ]  The analysis of speed and quality of the models has been performed"
   ]
  },
  {
   "cell_type": "markdown",
   "metadata": {},
   "source": [
    "Scratch Work (Delete Later)"
   ]
  },
  {
   "cell_type": "code",
   "execution_count": null,
   "metadata": {},
   "outputs": [],
   "source": [
    "print(linear_df['Model'].nunique())"
   ]
  }
 ],
 "metadata": {
  "kernelspec": {
   "display_name": "Python 3",
   "language": "python",
   "name": "python3"
  },
  "language_info": {
   "codemirror_mode": {
    "name": "ipython",
    "version": 3
   },
   "file_extension": ".py",
   "mimetype": "text/x-python",
   "name": "python",
   "nbconvert_exporter": "python",
   "pygments_lexer": "ipython3",
   "version": "3.13.5"
  }
 },
 "nbformat": 4,
 "nbformat_minor": 4
}
